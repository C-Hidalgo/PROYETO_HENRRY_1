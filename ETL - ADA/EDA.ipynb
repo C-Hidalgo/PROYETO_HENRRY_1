{
 "cells": [
  {
   "cell_type": "code",
   "execution_count": 1,
   "metadata": {},
   "outputs": [],
   "source": [
    "import pandas as pd\n",
    "import numpy as np\n",
    "import matplotlib.pyplot as plt\n",
    "import seaborn as sns"
   ]
  },
  {
   "cell_type": "markdown",
   "metadata": {},
   "source": [
    "<h5>Proceso EDA Análisis Exploratorio de Datos </h5>"
   ]
  },
  {
   "cell_type": "markdown",
   "metadata": {},
   "source": [
    "<h1>STEAM GAMES</h1>"
   ]
  },
  {
   "cell_type": "code",
   "execution_count": 2,
   "metadata": {},
   "outputs": [],
   "source": [
    "steam_games= pd.read_csv(('../DataSets/steam_games.csv'))"
   ]
  },
  {
   "cell_type": "code",
   "execution_count": 3,
   "metadata": {},
   "outputs": [
    {
     "data": {
      "text/html": [
       "<div>\n",
       "<style scoped>\n",
       "    .dataframe tbody tr th:only-of-type {\n",
       "        vertical-align: middle;\n",
       "    }\n",
       "\n",
       "    .dataframe tbody tr th {\n",
       "        vertical-align: top;\n",
       "    }\n",
       "\n",
       "    .dataframe thead th {\n",
       "        text-align: right;\n",
       "    }\n",
       "</style>\n",
       "<table border=\"1\" class=\"dataframe\">\n",
       "  <thead>\n",
       "    <tr style=\"text-align: right;\">\n",
       "      <th></th>\n",
       "      <th>app_name</th>\n",
       "      <th>id</th>\n",
       "      <th>Accounting</th>\n",
       "      <th>Action</th>\n",
       "      <th>Adventure</th>\n",
       "      <th>Animation &amp;amp; Modeling</th>\n",
       "      <th>Audio Production</th>\n",
       "      <th>Casual</th>\n",
       "      <th>Design &amp;amp; Illustration</th>\n",
       "      <th>Early Access</th>\n",
       "      <th>...</th>\n",
       "      <th>RPG</th>\n",
       "      <th>Racing</th>\n",
       "      <th>Simulation</th>\n",
       "      <th>Software Training</th>\n",
       "      <th>Sports</th>\n",
       "      <th>Strategy</th>\n",
       "      <th>Utilities</th>\n",
       "      <th>Video Production</th>\n",
       "      <th>Web Publishing</th>\n",
       "      <th>Year</th>\n",
       "    </tr>\n",
       "  </thead>\n",
       "  <tbody>\n",
       "    <tr>\n",
       "      <th>0</th>\n",
       "      <td>Army of Tentacles: (Not) A Cthulhu Dating Sim:...</td>\n",
       "      <td>770380</td>\n",
       "      <td>0</td>\n",
       "      <td>1</td>\n",
       "      <td>1</td>\n",
       "      <td>0</td>\n",
       "      <td>0</td>\n",
       "      <td>1</td>\n",
       "      <td>0</td>\n",
       "      <td>0</td>\n",
       "      <td>...</td>\n",
       "      <td>1</td>\n",
       "      <td>0</td>\n",
       "      <td>0</td>\n",
       "      <td>0</td>\n",
       "      <td>0</td>\n",
       "      <td>0</td>\n",
       "      <td>0</td>\n",
       "      <td>0</td>\n",
       "      <td>0</td>\n",
       "      <td>2018</td>\n",
       "    </tr>\n",
       "    <tr>\n",
       "      <th>1</th>\n",
       "      <td>Planetarium 2 - Zen Odyssey</td>\n",
       "      <td>765320</td>\n",
       "      <td>0</td>\n",
       "      <td>0</td>\n",
       "      <td>0</td>\n",
       "      <td>0</td>\n",
       "      <td>0</td>\n",
       "      <td>1</td>\n",
       "      <td>0</td>\n",
       "      <td>0</td>\n",
       "      <td>...</td>\n",
       "      <td>0</td>\n",
       "      <td>0</td>\n",
       "      <td>1</td>\n",
       "      <td>0</td>\n",
       "      <td>0</td>\n",
       "      <td>0</td>\n",
       "      <td>0</td>\n",
       "      <td>0</td>\n",
       "      <td>0</td>\n",
       "      <td>2018</td>\n",
       "    </tr>\n",
       "    <tr>\n",
       "      <th>2</th>\n",
       "      <td>SNOW - Starter Pack</td>\n",
       "      <td>774271</td>\n",
       "      <td>0</td>\n",
       "      <td>0</td>\n",
       "      <td>0</td>\n",
       "      <td>0</td>\n",
       "      <td>0</td>\n",
       "      <td>0</td>\n",
       "      <td>0</td>\n",
       "      <td>0</td>\n",
       "      <td>...</td>\n",
       "      <td>0</td>\n",
       "      <td>0</td>\n",
       "      <td>1</td>\n",
       "      <td>0</td>\n",
       "      <td>1</td>\n",
       "      <td>0</td>\n",
       "      <td>0</td>\n",
       "      <td>0</td>\n",
       "      <td>0</td>\n",
       "      <td>2018</td>\n",
       "    </tr>\n",
       "  </tbody>\n",
       "</table>\n",
       "<p>3 rows × 25 columns</p>\n",
       "</div>"
      ],
      "text/plain": [
       "                                            app_name      id  Accounting  \\\n",
       "0  Army of Tentacles: (Not) A Cthulhu Dating Sim:...  770380           0   \n",
       "1                        Planetarium 2 - Zen Odyssey  765320           0   \n",
       "2                                SNOW - Starter Pack  774271           0   \n",
       "\n",
       "   Action  Adventure  Animation &amp; Modeling  Audio Production  Casual  \\\n",
       "0       1          1                         0                 0       1   \n",
       "1       0          0                         0                 0       1   \n",
       "2       0          0                         0                 0       0   \n",
       "\n",
       "   Design &amp; Illustration  Early Access  ...  RPG  Racing  Simulation  \\\n",
       "0                          0             0  ...    1       0           0   \n",
       "1                          0             0  ...    0       0           1   \n",
       "2                          0             0  ...    0       0           1   \n",
       "\n",
       "   Software Training  Sports  Strategy  Utilities  Video Production  \\\n",
       "0                  0       0         0          0                 0   \n",
       "1                  0       0         0          0                 0   \n",
       "2                  0       1         0          0                 0   \n",
       "\n",
       "   Web Publishing  Year  \n",
       "0               0  2018  \n",
       "1               0  2018  \n",
       "2               0  2018  \n",
       "\n",
       "[3 rows x 25 columns]"
      ]
     },
     "execution_count": 3,
     "metadata": {},
     "output_type": "execute_result"
    }
   ],
   "source": [
    "steam_games.head(3) #muestro las tres primeras filas del DataFrame"
   ]
  },
  {
   "cell_type": "code",
   "execution_count": 4,
   "metadata": {},
   "outputs": [
    {
     "data": {
      "text/plain": [
       "app_name                     object\n",
       "id                            int64\n",
       "Accounting                    int64\n",
       "Action                        int64\n",
       "Adventure                     int64\n",
       "Animation &amp; Modeling      int64\n",
       "Audio Production              int64\n",
       "Casual                        int64\n",
       "Design &amp; Illustration     int64\n",
       "Early Access                  int64\n",
       "Education                     int64\n",
       "Free to Play                  int64\n",
       "Indie                         int64\n",
       "Massively Multiplayer         int64\n",
       "Photo Editing                 int64\n",
       "RPG                           int64\n",
       "Racing                        int64\n",
       "Simulation                    int64\n",
       "Software Training             int64\n",
       "Sports                        int64\n",
       "Strategy                      int64\n",
       "Utilities                     int64\n",
       "Video Production              int64\n",
       "Web Publishing                int64\n",
       "Year                          int64\n",
       "dtype: object"
      ]
     },
     "execution_count": 4,
     "metadata": {},
     "output_type": "execute_result"
    }
   ],
   "source": [
    "steam_games.dtypes # muestro los tipo de valores que contiene las columnas"
   ]
  },
  {
   "cell_type": "code",
   "execution_count": 5,
   "metadata": {},
   "outputs": [],
   "source": [
    "steam_games['Year'] = steam_games['Year'].astype(int)"
   ]
  },
  {
   "cell_type": "code",
   "execution_count": 6,
   "metadata": {},
   "outputs": [
    {
     "data": {
      "text/plain": [
       "app_name                     0\n",
       "id                           0\n",
       "Accounting                   0\n",
       "Action                       0\n",
       "Adventure                    0\n",
       "Animation &amp; Modeling     0\n",
       "Audio Production             0\n",
       "Casual                       0\n",
       "Design &amp; Illustration    0\n",
       "Early Access                 0\n",
       "Education                    0\n",
       "Free to Play                 0\n",
       "Indie                        0\n",
       "Massively Multiplayer        0\n",
       "Photo Editing                0\n",
       "RPG                          0\n",
       "Racing                       0\n",
       "Simulation                   0\n",
       "Software Training            0\n",
       "Sports                       0\n",
       "Strategy                     0\n",
       "Utilities                    0\n",
       "Video Production             0\n",
       "Web Publishing               0\n",
       "Year                         0\n",
       "dtype: int64"
      ]
     },
     "execution_count": 6,
     "metadata": {},
     "output_type": "execute_result"
    }
   ],
   "source": [
    "steam_games.isnull().sum() # Muestra la cantidad de nulos por columna"
   ]
  },
  {
   "cell_type": "code",
   "execution_count": 8,
   "metadata": {},
   "outputs": [
    {
     "data": {
      "text/plain": [
       "array([2018, 2002, 1998, 2007, 2004, 2006, 2008, 2005, 2001, 2009, 1999,\n",
       "       2010, 2011, 2012, 2013, 1984, 1996, 2014, 1992, 2003, 2015, 1994,\n",
       "       2000, 1993, 1995, 2016, 2017, 1997, 1990, 1987, 1991])"
      ]
     },
     "execution_count": 8,
     "metadata": {},
     "output_type": "execute_result"
    }
   ],
   "source": [
    "steam_games['Year'].unique() # muestro una lista de los años existentes"
   ]
  },
  {
   "cell_type": "code",
   "execution_count": 9,
   "metadata": {},
   "outputs": [
    {
     "data": {
      "text/plain": [
       "2877"
      ]
     },
     "execution_count": 9,
     "metadata": {},
     "output_type": "execute_result"
    }
   ],
   "source": [
    "steam_games['app_name'].nunique()# obtengo el numero de app_name"
   ]
  },
  {
   "cell_type": "markdown",
   "metadata": {},
   "source": [
    "Top 5 años con mas juegos lanzados"
   ]
  },
  {
   "cell_type": "code",
   "execution_count": 11,
   "metadata": {},
   "outputs": [
    {
     "data": {
      "image/png": "[encoded data removed]",
      "text/plain": [
       "<Figure size 800x400 with 1 Axes>"
      ]
     },
     "metadata": {},
     "output_type": "display_data"
    }
   ],
   "source": [
    "top_years = steam_games['Year'].value_counts().nlargest(5)\n",
    "\n",
    "# Crear la gráfica de barras\n",
    "plt.figure(figsize=(8, 4))\n",
    "top_years.plot(kind='bar', color='skyblue')\n",
    "plt.title('Top 5, Años con mas juegos lanzados')\n",
    "plt.xlabel('Año')\n",
    "plt.ylabel('Número de ocurrencias')\n",
    "plt.show()"
   ]
  },
  {
   "cell_type": "markdown",
   "metadata": {},
   "source": [
    "Cantidad de juegos por año"
   ]
  },
  {
   "cell_type": "code",
   "execution_count": 13,
   "metadata": {},
   "outputs": [
    {
     "data": {
      "image/png": "[encoded data removed]",
      "text/plain": [
       "<Figure size 1000x800 with 1 Axes>"
      ]
     },
     "metadata": {},
     "output_type": "display_data"
    }
   ],
   "source": [
    "generos = list(steam_games.drop(columns=['app_name','id','Accounting','Year']).columns)\n",
    "# Calcular la cantidad de juegos por género\n",
    "genre_counts = steam_games[generos].sum()\n",
    "genre_counts = genre_counts.sort_values(ascending=False)  # Ordenar los géneros por cantidad\n",
    "\n",
    "# Crear un gráfico de barras horizontales\n",
    "plt.figure(figsize=(10, 8))\n",
    "sns.barplot(x=genre_counts.values, y=genre_counts.index, palette='viridis', hue=genre_counts.values, dodge=False, legend=False)\n",
    "\n",
    "# Configurar etiquetas y título\n",
    "plt.xlabel('Cantidad de Juegos')\n",
    "plt.ylabel('Género')\n",
    "plt.title('Distribución de Géneros de Juegos')\n",
    "plt.show()"
   ]
  },
  {
   "cell_type": "markdown",
   "metadata": {},
   "source": [
    "<h1>USERS REVIEWS</h1>"
   ]
  },
  {
   "cell_type": "code",
   "execution_count": 14,
   "metadata": {},
   "outputs": [],
   "source": [
    "user_reviews= pd.read_csv(('../DataSets/user_reviews.csv'))"
   ]
  },
  {
   "cell_type": "code",
   "execution_count": 15,
   "metadata": {},
   "outputs": [
    {
     "data": {
      "text/html": [
       "<div>\n",
       "<style scoped>\n",
       "    .dataframe tbody tr th:only-of-type {\n",
       "        vertical-align: middle;\n",
       "    }\n",
       "\n",
       "    .dataframe tbody tr th {\n",
       "        vertical-align: top;\n",
       "    }\n",
       "\n",
       "    .dataframe thead th {\n",
       "        text-align: right;\n",
       "    }\n",
       "</style>\n",
       "<table border=\"1\" class=\"dataframe\">\n",
       "  <thead>\n",
       "    <tr style=\"text-align: right;\">\n",
       "      <th></th>\n",
       "      <th>user_id</th>\n",
       "      <th>posted</th>\n",
       "      <th>item_id</th>\n",
       "      <th>recommend</th>\n",
       "      <th>sentiment_analysis</th>\n",
       "    </tr>\n",
       "  </thead>\n",
       "  <tbody>\n",
       "    <tr>\n",
       "      <th>654</th>\n",
       "      <td>gtrace</td>\n",
       "      <td>Posted December 25, 2013.</td>\n",
       "      <td>221640</td>\n",
       "      <td>True</td>\n",
       "      <td>1</td>\n",
       "    </tr>\n",
       "    <tr>\n",
       "      <th>399</th>\n",
       "      <td>76561198081260159</td>\n",
       "      <td>Posted September 4, 2015.</td>\n",
       "      <td>298110</td>\n",
       "      <td>True</td>\n",
       "      <td>2</td>\n",
       "    </tr>\n",
       "    <tr>\n",
       "      <th>1</th>\n",
       "      <td>76561198079770573</td>\n",
       "      <td>Posted October 14, 2015.</td>\n",
       "      <td>1840</td>\n",
       "      <td>True</td>\n",
       "      <td>1</td>\n",
       "    </tr>\n",
       "  </tbody>\n",
       "</table>\n",
       "</div>"
      ],
      "text/plain": [
       "               user_id                     posted  item_id  recommend  \\\n",
       "654             gtrace  Posted December 25, 2013.   221640       True   \n",
       "399  76561198081260159  Posted September 4, 2015.   298110       True   \n",
       "1    76561198079770573   Posted October 14, 2015.     1840       True   \n",
       "\n",
       "     sentiment_analysis  \n",
       "654                   1  \n",
       "399                   2  \n",
       "1                     1  "
      ]
     },
     "execution_count": 15,
     "metadata": {},
     "output_type": "execute_result"
    }
   ],
   "source": [
    "user_reviews.sample(3) #muestro tres filas del DataFrame"
   ]
  },
  {
   "cell_type": "code",
   "execution_count": 16,
   "metadata": {},
   "outputs": [
    {
     "data": {
      "text/plain": [
       "user_id               object\n",
       "posted                object\n",
       "item_id                int64\n",
       "recommend               bool\n",
       "sentiment_analysis     int64\n",
       "dtype: object"
      ]
     },
     "execution_count": 16,
     "metadata": {},
     "output_type": "execute_result"
    }
   ],
   "source": [
    "user_reviews.dtypes # muestro los tipo de valores que contiene las columnas"
   ]
  },
  {
   "cell_type": "code",
   "execution_count": 17,
   "metadata": {},
   "outputs": [
    {
     "data": {
      "text/plain": [
       "user_id               0\n",
       "posted                0\n",
       "item_id               0\n",
       "recommend             0\n",
       "sentiment_analysis    0\n",
       "dtype: int64"
      ]
     },
     "execution_count": 17,
     "metadata": {},
     "output_type": "execute_result"
    }
   ],
   "source": [
    "user_reviews.isnull().sum() # Muestra la cantidad de nulos por columna"
   ]
  },
  {
   "cell_type": "code",
   "execution_count": 18,
   "metadata": {},
   "outputs": [
    {
     "data": {
      "image/png": "[encoded data removed]",
      "text/plain": [
       "<Figure size 640x480 with 1 Axes>"
      ]
     },
     "metadata": {},
     "output_type": "display_data"
    }
   ],
   "source": [
    "sns.histplot(data=user_reviews,x='sentiment_analysis',bins=10,palette='rainbow',hue='recommend')\n",
    "plt.title('Opiniones segun True o False')\n",
    "plt.xticks(ticks=[0, 1, 2], labels=['Negativas', 'Neutrales', 'Positivas'])\n",
    "plt.ylabel('Opiniones')\n",
    "plt.show()"
   ]
  },
  {
   "cell_type": "markdown",
   "metadata": {},
   "source": [
    "<h1> USERS ITEMS </h1>"
   ]
  },
  {
   "cell_type": "code",
   "execution_count": 2,
   "metadata": {},
   "outputs": [],
   "source": [
    "users_items_project= pd.read_csv(('../Datasets/users_items.csv'))\n"
   ]
  },
  {
   "cell_type": "code",
   "execution_count": 23,
   "metadata": {},
   "outputs": [
    {
     "data": {
      "text/html": [
       "<div>\n",
       "<style scoped>\n",
       "    .dataframe tbody tr th:only-of-type {\n",
       "        vertical-align: middle;\n",
       "    }\n",
       "\n",
       "    .dataframe tbody tr th {\n",
       "        vertical-align: top;\n",
       "    }\n",
       "\n",
       "    .dataframe thead th {\n",
       "        text-align: right;\n",
       "    }\n",
       "</style>\n",
       "<table border=\"1\" class=\"dataframe\">\n",
       "  <thead>\n",
       "    <tr style=\"text-align: right;\">\n",
       "      <th></th>\n",
       "      <th>user_id</th>\n",
       "      <th>items_count</th>\n",
       "      <th>item_id</th>\n",
       "      <th>playtime_forever</th>\n",
       "    </tr>\n",
       "  </thead>\n",
       "  <tbody>\n",
       "    <tr>\n",
       "      <th>56390</th>\n",
       "      <td>76561198045129491</td>\n",
       "      <td>61</td>\n",
       "      <td>219740</td>\n",
       "      <td>33.0</td>\n",
       "    </tr>\n",
       "    <tr>\n",
       "      <th>501330</th>\n",
       "      <td>ZennyAckbar</td>\n",
       "      <td>135</td>\n",
       "      <td>104900</td>\n",
       "      <td>163.0</td>\n",
       "    </tr>\n",
       "    <tr>\n",
       "      <th>391922</th>\n",
       "      <td>76561197992622571</td>\n",
       "      <td>88</td>\n",
       "      <td>218230</td>\n",
       "      <td>351.0</td>\n",
       "    </tr>\n",
       "  </tbody>\n",
       "</table>\n",
       "</div>"
      ],
      "text/plain": [
       "                  user_id  items_count  item_id  playtime_forever\n",
       "56390   76561198045129491           61   219740              33.0\n",
       "501330        ZennyAckbar          135   104900             163.0\n",
       "391922  76561197992622571           88   218230             351.0"
      ]
     },
     "execution_count": 23,
     "metadata": {},
     "output_type": "execute_result"
    }
   ],
   "source": [
    "users_items_project.sample(3) #muestro tres filas del DataFrame"
   ]
  },
  {
   "cell_type": "code",
   "execution_count": 24,
   "metadata": {},
   "outputs": [
    {
     "data": {
      "text/plain": [
       "user_id              object\n",
       "items_count           int64\n",
       "item_id               int64\n",
       "playtime_forever    float64\n",
       "dtype: object"
      ]
     },
     "execution_count": 24,
     "metadata": {},
     "output_type": "execute_result"
    }
   ],
   "source": [
    "users_items_project.dtypes # muestro los tipo de valores que contiene las columnas"
   ]
  },
  {
   "cell_type": "code",
   "execution_count": 25,
   "metadata": {},
   "outputs": [
    {
     "data": {
      "text/plain": [
       "user_id             0\n",
       "items_count         0\n",
       "item_id             0\n",
       "playtime_forever    0\n",
       "dtype: int64"
      ]
     },
     "execution_count": 25,
     "metadata": {},
     "output_type": "execute_result"
    }
   ],
   "source": [
    "users_items_project.isnull().sum() # Muestra la cantidad de nulos por columna"
   ]
  }
 ],
 "metadata": {
  "kernelspec": {
   "display_name": "Python 3",
   "language": "python",
   "name": "python3"
  },
  "language_info": {
   "codemirror_mode": {
    "name": "ipython",
    "version": 3
   },
   "file_extension": ".py",
   "mimetype": "text/x-python",
   "name": "python",
   "nbconvert_exporter": "python",
   "pygments_lexer": "ipython3",
   "version": "3.11.3"
  }
 },
 "nbformat": 4,
 "nbformat_minor": 2
}
