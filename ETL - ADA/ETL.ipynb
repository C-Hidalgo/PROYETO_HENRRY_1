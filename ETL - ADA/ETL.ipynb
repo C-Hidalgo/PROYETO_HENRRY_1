{
 "cells": [
  {
   "cell_type": "code",
   "execution_count": 3,
   "metadata": {},
   "outputs": [],
   "source": [
    "import pandas as pd\n",
    "import numpy as np\n",
    "import ast\n",
    "import gzip\n",
    "import json\n",
    "import matplotlib.pyplot as plt\n",
    "import seaborn as sns\n",
    "import re\n",
    "import nltk\n",
    "from nltk.sentiment import SentimentIntensityAnalyzer"
   ]
  },
  {
   "cell_type": "markdown",
   "metadata": {},
   "source": [
    "<h1>STEAM GAMES</h1>"
   ]
  },
  {
   "cell_type": "code",
   "execution_count": 74,
   "metadata": {},
   "outputs": [],
   "source": [
    "#Carga de DataSet steam_games\n",
    "steam_games=pd.read_json('../Datasets/steam_games.json.gz',compression='gzip',lines=True)\n"
   ]
  },
  {
   "cell_type": "code",
   "execution_count": 75,
   "metadata": {},
   "outputs": [],
   "source": [
    "\n",
    "# Elimina las filas donde todos sus valores son nulos\n",
    "steam_games.dropna(how='all',inplace=True)\n"
   ]
  },
  {
   "cell_type": "code",
   "execution_count": 76,
   "metadata": {},
   "outputs": [
    {
     "data": {
      "text/html": [
       "<div>\n",
       "<style scoped>\n",
       "    .dataframe tbody tr th:only-of-type {\n",
       "        vertical-align: middle;\n",
       "    }\n",
       "\n",
       "    .dataframe tbody tr th {\n",
       "        vertical-align: top;\n",
       "    }\n",
       "\n",
       "    .dataframe thead th {\n",
       "        text-align: right;\n",
       "    }\n",
       "</style>\n",
       "<table border=\"1\" class=\"dataframe\">\n",
       "  <thead>\n",
       "    <tr style=\"text-align: right;\">\n",
       "      <th></th>\n",
       "      <th>publisher</th>\n",
       "      <th>genres</th>\n",
       "      <th>app_name</th>\n",
       "      <th>title</th>\n",
       "      <th>url</th>\n",
       "      <th>release_date</th>\n",
       "      <th>tags</th>\n",
       "      <th>reviews_url</th>\n",
       "      <th>specs</th>\n",
       "      <th>price</th>\n",
       "      <th>early_access</th>\n",
       "      <th>id</th>\n",
       "      <th>developer</th>\n",
       "    </tr>\n",
       "  </thead>\n",
       "  <tbody>\n",
       "    <tr>\n",
       "      <th>88384</th>\n",
       "      <td>None</td>\n",
       "      <td>None</td>\n",
       "      <td>None</td>\n",
       "      <td>None</td>\n",
       "      <td>http://store.steampowered.com/</td>\n",
       "      <td>None</td>\n",
       "      <td>None</td>\n",
       "      <td>None</td>\n",
       "      <td>None</td>\n",
       "      <td>19.99</td>\n",
       "      <td>0.0</td>\n",
       "      <td>NaN</td>\n",
       "      <td>None</td>\n",
       "    </tr>\n",
       "    <tr>\n",
       "      <th>119271</th>\n",
       "      <td>Warner Bros. Interactive Entertainment, Feral ...</td>\n",
       "      <td>[Action, Adventure]</td>\n",
       "      <td>Batman: Arkham City - Game of the Year Edition</td>\n",
       "      <td>Batman: Arkham City - Game of the Year Edition</td>\n",
       "      <td>http://store.steampowered.com/app/200260</td>\n",
       "      <td>2012-09-07</td>\n",
       "      <td>[Action, Open World, Batman, Adventure, Stealt...</td>\n",
       "      <td>None</td>\n",
       "      <td>[Single-player, Steam Achievements, Steam Trad...</td>\n",
       "      <td>19.99</td>\n",
       "      <td>0.0</td>\n",
       "      <td>NaN</td>\n",
       "      <td>Rocksteady Studios,Feral Interactive (Mac)</td>\n",
       "    </tr>\n",
       "  </tbody>\n",
       "</table>\n",
       "</div>"
      ],
      "text/plain": [
       "                                                publisher  \\\n",
       "88384                                                None   \n",
       "119271  Warner Bros. Interactive Entertainment, Feral ...   \n",
       "\n",
       "                     genres                                        app_name  \\\n",
       "88384                  None                                            None   \n",
       "119271  [Action, Adventure]  Batman: Arkham City - Game of the Year Edition   \n",
       "\n",
       "                                                 title  \\\n",
       "88384                                             None   \n",
       "119271  Batman: Arkham City - Game of the Year Edition   \n",
       "\n",
       "                                             url release_date  \\\n",
       "88384             http://store.steampowered.com/         None   \n",
       "119271  http://store.steampowered.com/app/200260   2012-09-07   \n",
       "\n",
       "                                                     tags reviews_url  \\\n",
       "88384                                                None        None   \n",
       "119271  [Action, Open World, Batman, Adventure, Stealt...        None   \n",
       "\n",
       "                                                    specs  price  \\\n",
       "88384                                                None  19.99   \n",
       "119271  [Single-player, Steam Achievements, Steam Trad...  19.99   \n",
       "\n",
       "        early_access  id                                   developer  \n",
       "88384            0.0 NaN                                        None  \n",
       "119271           0.0 NaN  Rocksteady Studios,Feral Interactive (Mac)  "
      ]
     },
     "execution_count": 76,
     "metadata": {},
     "output_type": "execute_result"
    }
   ],
   "source": [
    "#Proceso de Limpieza Columna 'id'\n",
    "steam_games[steam_games['id'].isnull()]\n"
   ]
  },
  {
   "cell_type": "code",
   "execution_count": 77,
   "metadata": {},
   "outputs": [
    {
     "data": {
      "text/html": [
       "<div>\n",
       "<style scoped>\n",
       "    .dataframe tbody tr th:only-of-type {\n",
       "        vertical-align: middle;\n",
       "    }\n",
       "\n",
       "    .dataframe tbody tr th {\n",
       "        vertical-align: top;\n",
       "    }\n",
       "\n",
       "    .dataframe thead th {\n",
       "        text-align: right;\n",
       "    }\n",
       "</style>\n",
       "<table border=\"1\" class=\"dataframe\">\n",
       "  <thead>\n",
       "    <tr style=\"text-align: right;\">\n",
       "      <th></th>\n",
       "      <th>publisher</th>\n",
       "      <th>genres</th>\n",
       "      <th>app_name</th>\n",
       "      <th>title</th>\n",
       "      <th>url</th>\n",
       "      <th>release_date</th>\n",
       "      <th>tags</th>\n",
       "      <th>reviews_url</th>\n",
       "      <th>specs</th>\n",
       "      <th>price</th>\n",
       "      <th>early_access</th>\n",
       "      <th>id</th>\n",
       "      <th>developer</th>\n",
       "    </tr>\n",
       "  </thead>\n",
       "  <tbody>\n",
       "    <tr>\n",
       "      <th>89378</th>\n",
       "      <td>Warner Bros. Interactive Entertainment, Feral ...</td>\n",
       "      <td>[Action, Adventure]</td>\n",
       "      <td>Batman: Arkham City - Game of the Year Edition</td>\n",
       "      <td>Batman: Arkham City - Game of the Year Edition</td>\n",
       "      <td>http://store.steampowered.com/app/200260/Batma...</td>\n",
       "      <td>2012-09-07</td>\n",
       "      <td>[Action, Open World, Batman, Adventure, Stealt...</td>\n",
       "      <td>http://steamcommunity.com/app/200260/reviews/?...</td>\n",
       "      <td>[Single-player, Steam Achievements, Steam Trad...</td>\n",
       "      <td>19.99</td>\n",
       "      <td>0.0</td>\n",
       "      <td>200260.0</td>\n",
       "      <td>Rocksteady Studios,Feral Interactive (Mac)</td>\n",
       "    </tr>\n",
       "    <tr>\n",
       "      <th>119271</th>\n",
       "      <td>Warner Bros. Interactive Entertainment, Feral ...</td>\n",
       "      <td>[Action, Adventure]</td>\n",
       "      <td>Batman: Arkham City - Game of the Year Edition</td>\n",
       "      <td>Batman: Arkham City - Game of the Year Edition</td>\n",
       "      <td>http://store.steampowered.com/app/200260</td>\n",
       "      <td>2012-09-07</td>\n",
       "      <td>[Action, Open World, Batman, Adventure, Stealt...</td>\n",
       "      <td>None</td>\n",
       "      <td>[Single-player, Steam Achievements, Steam Trad...</td>\n",
       "      <td>19.99</td>\n",
       "      <td>0.0</td>\n",
       "      <td>NaN</td>\n",
       "      <td>Rocksteady Studios,Feral Interactive (Mac)</td>\n",
       "    </tr>\n",
       "  </tbody>\n",
       "</table>\n",
       "</div>"
      ],
      "text/plain": [
       "                                                publisher  \\\n",
       "89378   Warner Bros. Interactive Entertainment, Feral ...   \n",
       "119271  Warner Bros. Interactive Entertainment, Feral ...   \n",
       "\n",
       "                     genres                                        app_name  \\\n",
       "89378   [Action, Adventure]  Batman: Arkham City - Game of the Year Edition   \n",
       "119271  [Action, Adventure]  Batman: Arkham City - Game of the Year Edition   \n",
       "\n",
       "                                                 title  \\\n",
       "89378   Batman: Arkham City - Game of the Year Edition   \n",
       "119271  Batman: Arkham City - Game of the Year Edition   \n",
       "\n",
       "                                                      url release_date  \\\n",
       "89378   http://store.steampowered.com/app/200260/Batma...   2012-09-07   \n",
       "119271           http://store.steampowered.com/app/200260   2012-09-07   \n",
       "\n",
       "                                                     tags  \\\n",
       "89378   [Action, Open World, Batman, Adventure, Stealt...   \n",
       "119271  [Action, Open World, Batman, Adventure, Stealt...   \n",
       "\n",
       "                                              reviews_url  \\\n",
       "89378   http://steamcommunity.com/app/200260/reviews/?...   \n",
       "119271                                               None   \n",
       "\n",
       "                                                    specs  price  \\\n",
       "89378   [Single-player, Steam Achievements, Steam Trad...  19.99   \n",
       "119271  [Single-player, Steam Achievements, Steam Trad...  19.99   \n",
       "\n",
       "        early_access        id                                   developer  \n",
       "89378            0.0  200260.0  Rocksteady Studios,Feral Interactive (Mac)  \n",
       "119271           0.0       NaN  Rocksteady Studios,Feral Interactive (Mac)  "
      ]
     },
     "execution_count": 77,
     "metadata": {},
     "output_type": "execute_result"
    }
   ],
   "source": [
    "steam_games[steam_games['title'] == 'Batman: Arkham City - Game of the Year Edition'] "
   ]
  },
  {
   "cell_type": "code",
   "execution_count": 78,
   "metadata": {},
   "outputs": [],
   "source": [
    "#Se puede observar que se encontraron dos filas con id nuelos.\n",
    "#El primero carece de gran parte de su informacion, por tanto sera eliminada.\n",
    "#El segundo se puede concluir que se trata de una fila duplicada donde una de \n",
    "#esta no tiene el id, por lo que sera eliminada\n",
    "\n",
    "steam_games.dropna(subset=['id'],inplace=True)\n"
   ]
  },
  {
   "cell_type": "code",
   "execution_count": 79,
   "metadata": {},
   "outputs": [
    {
     "name": "stdout",
     "output_type": "stream",
     "text": [
      "                 publisher    genres                          app_name  \\\n",
      "102204  Bethesda Softworks  [Action]  Wolfenstein II: The New Colossus   \n",
      "102883  Bethesda Softworks  [Action]  Wolfenstein II: The New Colossus   \n",
      "\n",
      "                                   title  \\\n",
      "102204  Wolfenstein II: The New Colossus   \n",
      "102883  Wolfenstein II: The New Colossus   \n",
      "\n",
      "                                                      url release_date  \\\n",
      "102204          http://store.steampowered.com/app/612880/   2017-10-26   \n",
      "102883  http://store.steampowered.com/app/612880/Wolfe...   2017-10-26   \n",
      "\n",
      "                                                     tags  \\\n",
      "102204  [Action, FPS, Gore, Violent, Alternate History...   \n",
      "102883  [Action, FPS, Gore, Violent, Alternate History...   \n",
      "\n",
      "                                              reviews_url  \\\n",
      "102204  http://steamcommunity.com/app/612880/reviews/?...   \n",
      "102883  http://steamcommunity.com/app/612880/reviews/?...   \n",
      "\n",
      "                                                    specs  price  \\\n",
      "102204  [Single-player, Steam Achievements, Full contr...  59.99   \n",
      "102883  [Single-player, Steam Achievements, Full contr...  59.99   \n",
      "\n",
      "        early_access        id      developer  \n",
      "102204           0.0  612880.0  Machine Games  \n",
      "102883           0.0  612880.0  Machine Games  \n"
     ]
    }
   ],
   "source": [
    "\n",
    "#Busqueda de duplicados\n",
    "duplicates = steam_games[steam_games.duplicated(subset=['id'], keep=False)]\n",
    "print(duplicates)\n"
   ]
  },
  {
   "cell_type": "code",
   "execution_count": 80,
   "metadata": {},
   "outputs": [],
   "source": [
    "#Se puede observar dos filas duplicada, por tanto se elimina una de estas\n",
    "steam_games.drop_duplicates(subset=['id'], keep='first', inplace=True)"
   ]
  },
  {
   "cell_type": "code",
   "execution_count": 81,
   "metadata": {},
   "outputs": [
    {
     "name": "stdout",
     "output_type": "stream",
     "text": [
      "<class 'pandas.core.frame.DataFrame'>\n",
      "Index: 32132 entries, 88310 to 120444\n",
      "Data columns (total 13 columns):\n",
      " #   Column        Non-Null Count  Dtype  \n",
      "---  ------        --------------  -----  \n",
      " 0   publisher     24081 non-null  object \n",
      " 1   genres        28850 non-null  object \n",
      " 2   app_name      32131 non-null  object \n",
      " 3   title         30083 non-null  object \n",
      " 4   url           32132 non-null  object \n",
      " 5   release_date  30066 non-null  object \n",
      " 6   tags          31970 non-null  object \n",
      " 7   reviews_url   32132 non-null  object \n",
      " 8   specs         31463 non-null  object \n",
      " 9   price         30755 non-null  object \n",
      " 10  early_access  32132 non-null  float64\n",
      " 11  id            32132 non-null  int32  \n",
      " 12  developer     28834 non-null  object \n",
      "dtypes: float64(1), int32(1), object(11)\n",
      "memory usage: 3.3+ MB\n"
     ]
    }
   ],
   "source": [
    "#Convertir los valores de la columna 'id' en enteros\n",
    "steam_games['id'] = steam_games['id'].astype(int)\n",
    "steam_games.info()\n"
   ]
  },
  {
   "cell_type": "code",
   "execution_count": 82,
   "metadata": {},
   "outputs": [
    {
     "data": {
      "text/plain": [
       "publisher       8051\n",
       "genres          3282\n",
       "app_name           1\n",
       "title           2049\n",
       "url                0\n",
       "release_date    2066\n",
       "tags             162\n",
       "reviews_url        0\n",
       "specs            669\n",
       "price           1377\n",
       "early_access       0\n",
       "id                 0\n",
       "developer       3298\n",
       "dtype: int64"
      ]
     },
     "execution_count": 82,
     "metadata": {},
     "output_type": "execute_result"
    }
   ],
   "source": [
    "steam_games.isnull().sum()"
   ]
  },
  {
   "cell_type": "code",
   "execution_count": 83,
   "metadata": {},
   "outputs": [
    {
     "data": {
      "text/html": [
       "<div>\n",
       "<style scoped>\n",
       "    .dataframe tbody tr th:only-of-type {\n",
       "        vertical-align: middle;\n",
       "    }\n",
       "\n",
       "    .dataframe tbody tr th {\n",
       "        vertical-align: top;\n",
       "    }\n",
       "\n",
       "    .dataframe thead th {\n",
       "        text-align: right;\n",
       "    }\n",
       "</style>\n",
       "<table border=\"1\" class=\"dataframe\">\n",
       "  <thead>\n",
       "    <tr style=\"text-align: right;\">\n",
       "      <th></th>\n",
       "      <th>publisher</th>\n",
       "      <th>genres</th>\n",
       "      <th>app_name</th>\n",
       "      <th>title</th>\n",
       "      <th>url</th>\n",
       "      <th>release_date</th>\n",
       "      <th>tags</th>\n",
       "      <th>reviews_url</th>\n",
       "      <th>specs</th>\n",
       "      <th>price</th>\n",
       "      <th>early_access</th>\n",
       "      <th>id</th>\n",
       "      <th>developer</th>\n",
       "    </tr>\n",
       "  </thead>\n",
       "  <tbody>\n",
       "    <tr>\n",
       "      <th>90890</th>\n",
       "      <td>None</td>\n",
       "      <td>[Action, Indie]</td>\n",
       "      <td>None</td>\n",
       "      <td>None</td>\n",
       "      <td>http://store.steampowered.com/app/317160/_/</td>\n",
       "      <td>2014-08-26</td>\n",
       "      <td>[Action, Indie]</td>\n",
       "      <td>http://steamcommunity.com/app/317160/reviews/?...</td>\n",
       "      <td>[Single-player, Game demo]</td>\n",
       "      <td>None</td>\n",
       "      <td>0.0</td>\n",
       "      <td>317160</td>\n",
       "      <td>None</td>\n",
       "    </tr>\n",
       "  </tbody>\n",
       "</table>\n",
       "</div>"
      ],
      "text/plain": [
       "      publisher           genres app_name title  \\\n",
       "90890      None  [Action, Indie]     None  None   \n",
       "\n",
       "                                               url release_date  \\\n",
       "90890  http://store.steampowered.com/app/317160/_/   2014-08-26   \n",
       "\n",
       "                  tags                                        reviews_url  \\\n",
       "90890  [Action, Indie]  http://steamcommunity.com/app/317160/reviews/?...   \n",
       "\n",
       "                            specs price  early_access      id developer  \n",
       "90890  [Single-player, Game demo]  None           0.0  317160      None  "
      ]
     },
     "execution_count": 83,
     "metadata": {},
     "output_type": "execute_result"
    }
   ],
   "source": [
    "#Proceso de Limpieza Columna 'app_name'\n",
    "\n",
    "#Busqueda de app_name nulos\n",
    "steam_games[steam_games['app_name'].isnull()]\n"
   ]
  },
  {
   "cell_type": "code",
   "execution_count": 84,
   "metadata": {},
   "outputs": [],
   "source": [
    "#Se encontro una appe_nume nula la cual carece de otras informaciones imnportantes,\n",
    "# por lo que sera eliminada\n",
    "steam_games.dropna(subset=['app_name'],inplace=True)"
   ]
  },
  {
   "cell_type": "code",
   "execution_count": 85,
   "metadata": {},
   "outputs": [],
   "source": [
    "#Proceso de Limpieza Columna 'developer'\n",
    "#Se remplazara los nulos de developer por los de publisher\n",
    "steam_games['developer'].fillna(steam_games['publisher'],inplace=True)\n"
   ]
  },
  {
   "cell_type": "code",
   "execution_count": 86,
   "metadata": {},
   "outputs": [],
   "source": [
    "#Proceso de limpieza columna 'genres'\n",
    "#Los valores de tags son iguales a genres, cargare los fataltante de genres con tags, \n",
    "#y creo un conjunto (set) con totos valores unicos de genres.\n",
    "\n",
    "#Creando un conjunto ( set) que contiene todos los \n",
    "#géneros únicos presentes en la columna 'géneros' del DataFrame\n",
    "genres = set(item for val in steam_games['genres'].dropna() for item in val)"
   ]
  },
  {
   "cell_type": "code",
   "execution_count": 87,
   "metadata": {},
   "outputs": [],
   "source": [
    "#Filtrando las etiquetas 'tags' para mantener solo aquellas \n",
    "#que están presentes en 'genres'\n",
    "steam_games['tags'] = steam_games['tags'].apply(lambda x: [item for item in x if item in genres] if isinstance(x, list) else x) \n"
   ]
  },
  {
   "cell_type": "code",
   "execution_count": 88,
   "metadata": {},
   "outputs": [],
   "source": [
    "#Carga de valores nulos en la columna 'genres' con valores de 'tags'\n",
    "steam_games['genres'].fillna(steam_games['tags'], inplace=True)\n"
   ]
  },
  {
   "cell_type": "code",
   "execution_count": 89,
   "metadata": {},
   "outputs": [],
   "source": [
    "#Funcion que añade valores a 'geners' que estan en 'tags'\n",
    " #Función que añade valores de 'tags' a 'genres' que no estén ya presentes en 'genres'\n",
    "def agregar_genres(fila):\n",
    "    genres = fila['genres']\n",
    "    tags = fila['tags']\n",
    "    if isinstance(tags,list) and isinstance(genres,list):\n",
    "        for tag in tags:\n",
    "            if tag not in genres:\n",
    "                genres.append(tag)\n",
    "    return genres\n"
   ]
  },
  {
   "cell_type": "code",
   "execution_count": 90,
   "metadata": {},
   "outputs": [],
   "source": [
    "#Aplicando la función 'agregar_genres' a todos los elementos en el dataframe\n",
    "steam_games['genres'] = steam_games.apply(lambda fila: agregar_genres(fila), axis=1)"
   ]
  },
  {
   "cell_type": "code",
   "execution_count": 91,
   "metadata": {},
   "outputs": [
    {
     "data": {
      "text/html": [
       "<div>\n",
       "<style scoped>\n",
       "    .dataframe tbody tr th:only-of-type {\n",
       "        vertical-align: middle;\n",
       "    }\n",
       "\n",
       "    .dataframe tbody tr th {\n",
       "        vertical-align: top;\n",
       "    }\n",
       "\n",
       "    .dataframe thead th {\n",
       "        text-align: right;\n",
       "    }\n",
       "</style>\n",
       "<table border=\"1\" class=\"dataframe\">\n",
       "  <thead>\n",
       "    <tr style=\"text-align: right;\">\n",
       "      <th></th>\n",
       "      <th>publisher</th>\n",
       "      <th>genres</th>\n",
       "      <th>app_name</th>\n",
       "      <th>title</th>\n",
       "      <th>url</th>\n",
       "      <th>release_date</th>\n",
       "      <th>tags</th>\n",
       "      <th>reviews_url</th>\n",
       "      <th>specs</th>\n",
       "      <th>price</th>\n",
       "      <th>...</th>\n",
       "      <th>Photo Editing</th>\n",
       "      <th>RPG</th>\n",
       "      <th>Racing</th>\n",
       "      <th>Simulation</th>\n",
       "      <th>Software Training</th>\n",
       "      <th>Sports</th>\n",
       "      <th>Strategy</th>\n",
       "      <th>Utilities</th>\n",
       "      <th>Video Production</th>\n",
       "      <th>Web Publishing</th>\n",
       "    </tr>\n",
       "  </thead>\n",
       "  <tbody>\n",
       "    <tr>\n",
       "      <th>88310</th>\n",
       "      <td>Kotoshiro</td>\n",
       "      <td>Action.Casual.Indie.Simulation.Strategy</td>\n",
       "      <td>Lost Summoner Kitty</td>\n",
       "      <td>Lost Summoner Kitty</td>\n",
       "      <td>http://store.steampowered.com/app/761140/Lost_...</td>\n",
       "      <td>2018-01-04</td>\n",
       "      <td>[Strategy, Action, Indie, Casual, Simulation]</td>\n",
       "      <td>http://steamcommunity.com/app/761140/reviews/?...</td>\n",
       "      <td>[Single-player]</td>\n",
       "      <td>4.99</td>\n",
       "      <td>...</td>\n",
       "      <td>0</td>\n",
       "      <td>0</td>\n",
       "      <td>0</td>\n",
       "      <td>1</td>\n",
       "      <td>0</td>\n",
       "      <td>0</td>\n",
       "      <td>1</td>\n",
       "      <td>0</td>\n",
       "      <td>0</td>\n",
       "      <td>0</td>\n",
       "    </tr>\n",
       "    <tr>\n",
       "      <th>88311</th>\n",
       "      <td>Making Fun, Inc.</td>\n",
       "      <td>Free to Play.Indie.RPG.Strategy</td>\n",
       "      <td>Ironbound</td>\n",
       "      <td>Ironbound</td>\n",
       "      <td>http://store.steampowered.com/app/643980/Ironb...</td>\n",
       "      <td>2018-01-04</td>\n",
       "      <td>[Free to Play, Strategy, Indie, RPG]</td>\n",
       "      <td>http://steamcommunity.com/app/643980/reviews/?...</td>\n",
       "      <td>[Single-player, Multi-player, Online Multi-Pla...</td>\n",
       "      <td>Free To Play</td>\n",
       "      <td>...</td>\n",
       "      <td>0</td>\n",
       "      <td>1</td>\n",
       "      <td>0</td>\n",
       "      <td>0</td>\n",
       "      <td>0</td>\n",
       "      <td>0</td>\n",
       "      <td>1</td>\n",
       "      <td>0</td>\n",
       "      <td>0</td>\n",
       "      <td>0</td>\n",
       "    </tr>\n",
       "  </tbody>\n",
       "</table>\n",
       "<p>2 rows × 35 columns</p>\n",
       "</div>"
      ],
      "text/plain": [
       "              publisher                                   genres  \\\n",
       "88310         Kotoshiro  Action.Casual.Indie.Simulation.Strategy   \n",
       "88311  Making Fun, Inc.          Free to Play.Indie.RPG.Strategy   \n",
       "\n",
       "                  app_name                title  \\\n",
       "88310  Lost Summoner Kitty  Lost Summoner Kitty   \n",
       "88311            Ironbound            Ironbound   \n",
       "\n",
       "                                                     url release_date  \\\n",
       "88310  http://store.steampowered.com/app/761140/Lost_...   2018-01-04   \n",
       "88311  http://store.steampowered.com/app/643980/Ironb...   2018-01-04   \n",
       "\n",
       "                                                tags  \\\n",
       "88310  [Strategy, Action, Indie, Casual, Simulation]   \n",
       "88311           [Free to Play, Strategy, Indie, RPG]   \n",
       "\n",
       "                                             reviews_url  \\\n",
       "88310  http://steamcommunity.com/app/761140/reviews/?...   \n",
       "88311  http://steamcommunity.com/app/643980/reviews/?...   \n",
       "\n",
       "                                                   specs         price  ...  \\\n",
       "88310                                    [Single-player]          4.99  ...   \n",
       "88311  [Single-player, Multi-player, Online Multi-Pla...  Free To Play  ...   \n",
       "\n",
       "       Photo Editing  RPG Racing  Simulation  Software Training  Sports  \\\n",
       "88310              0    0      0           1                  0       0   \n",
       "88311              0    1      0           0                  0       0   \n",
       "\n",
       "       Strategy  Utilities  Video Production  Web Publishing  \n",
       "88310         1          0                 0               0  \n",
       "88311         1          0                 0               0  \n",
       "\n",
       "[2 rows x 35 columns]"
      ]
     },
     "execution_count": 91,
     "metadata": {},
     "output_type": "execute_result"
    }
   ],
   "source": [
    "#Creacion de columnas ficticias a travez d dumies con los valores de geners\n",
    "# Ahora voy a generar dummies para genres \n",
    "steam_games['genres'] =  steam_games['genres'].apply(lambda x:\".\".join(x) if isinstance(x, list) else x)\n",
    "dummies = steam_games['genres'].str.get_dummies(sep='.')\n",
    "dummies = dummies.groupby(dummies.columns, axis=1).sum()\n",
    "steam_games = pd.concat([steam_games,dummies],axis=1)\n",
    "steam_games.head(2)"
   ]
  },
  {
   "cell_type": "code",
   "execution_count": 92,
   "metadata": {},
   "outputs": [],
   "source": [
    "\n",
    "#### Elimino todas las columnas inecesarias\n",
    "# publisher\n",
    "# genres\n",
    "# title\n",
    "# url\n",
    "# tags\n",
    "# discount_price\n",
    "# reviews_url\n",
    "# early_access\n",
    "# specs\n",
    "# price\n",
    "\n",
    "\n",
    "steam_games = steam_games.drop(columns=['publisher', 'genres', 'title', 'url', 'tags', 'reviews_url', 'early_access', 'specs', 'price'])"
   ]
  },
  {
   "cell_type": "code",
   "execution_count": 93,
   "metadata": {},
   "outputs": [
    {
     "data": {
      "text/plain": [
       "app_name                        0\n",
       "release_date                 2066\n",
       "id                              0\n",
       "developer                    3232\n",
       "Accounting                      0\n",
       "Action                          0\n",
       "Adventure                       0\n",
       "Animation &amp; Modeling        0\n",
       "Audio Production                0\n",
       "Casual                          0\n",
       "Design &amp; Illustration       0\n",
       "Early Access                    0\n",
       "Education                       0\n",
       "Free to Play                    0\n",
       "Indie                           0\n",
       "Massively Multiplayer           0\n",
       "Photo Editing                   0\n",
       "RPG                             0\n",
       "Racing                          0\n",
       "Simulation                      0\n",
       "Software Training               0\n",
       "Sports                          0\n",
       "Strategy                        0\n",
       "Utilities                       0\n",
       "Video Production                0\n",
       "Web Publishing                  0\n",
       "dtype: int64"
      ]
     },
     "execution_count": 93,
     "metadata": {},
     "output_type": "execute_result"
    }
   ],
   "source": [
    "steam_games.isnull().sum()"
   ]
  },
  {
   "cell_type": "code",
   "execution_count": 94,
   "metadata": {},
   "outputs": [
    {
     "name": "stdout",
     "output_type": "stream",
     "text": [
      "Porcentaje de nulos : 0.10114842364072085\n"
     ]
    }
   ],
   "source": [
    "#Evaluacion de Porcentaje de nulos\n",
    "print(f'Porcentaje de nulos : {1 - steam_games.dropna(subset=[\"developer\",\"release_date\"]).shape[0] / steam_games.shape[0]}')"
   ]
  },
  {
   "cell_type": "code",
   "execution_count": 95,
   "metadata": {},
   "outputs": [
    {
     "data": {
      "text/plain": [
       "app_name                     0\n",
       "release_date                 0\n",
       "id                           0\n",
       "developer                    0\n",
       "Accounting                   0\n",
       "Action                       0\n",
       "Adventure                    0\n",
       "Animation &amp; Modeling     0\n",
       "Audio Production             0\n",
       "Casual                       0\n",
       "Design &amp; Illustration    0\n",
       "Early Access                 0\n",
       "Education                    0\n",
       "Free to Play                 0\n",
       "Indie                        0\n",
       "Massively Multiplayer        0\n",
       "Photo Editing                0\n",
       "RPG                          0\n",
       "Racing                       0\n",
       "Simulation                   0\n",
       "Software Training            0\n",
       "Sports                       0\n",
       "Strategy                     0\n",
       "Utilities                    0\n",
       "Video Production             0\n",
       "Web Publishing               0\n",
       "dtype: int64"
      ]
     },
     "execution_count": 95,
     "metadata": {},
     "output_type": "execute_result"
    }
   ],
   "source": [
    "#Entre las columnas release_date y developer hacen un 11% de valores nulos. al poder \n",
    "#hacer mas analisis y asignar valores, procedo a la eliminacion de dichas filas\n",
    "steam_games.dropna(subset=['developer','release_date'],inplace=True)\n",
    "steam_games.isnull().sum()"
   ]
  },
  {
   "cell_type": "code",
   "execution_count": 96,
   "metadata": {},
   "outputs": [
    {
     "name": "stdout",
     "output_type": "stream",
     "text": [
      "<class 'pandas.core.frame.DataFrame'>\n",
      "Index: 28881 entries, 88310 to 120443\n",
      "Data columns (total 26 columns):\n",
      " #   Column                     Non-Null Count  Dtype \n",
      "---  ------                     --------------  ----- \n",
      " 0   app_name                   28881 non-null  object\n",
      " 1   release_date               28881 non-null  object\n",
      " 2   id                         28881 non-null  int32 \n",
      " 3   developer                  28881 non-null  object\n",
      " 4   Accounting                 28881 non-null  int64 \n",
      " 5   Action                     28881 non-null  int64 \n",
      " 6   Adventure                  28881 non-null  int64 \n",
      " 7   Animation &amp; Modeling   28881 non-null  int64 \n",
      " 8   Audio Production           28881 non-null  int64 \n",
      " 9   Casual                     28881 non-null  int64 \n",
      " 10  Design &amp; Illustration  28881 non-null  int64 \n",
      " 11  Early Access               28881 non-null  int64 \n",
      " 12  Education                  28881 non-null  int64 \n",
      " 13  Free to Play               28881 non-null  int64 \n",
      " 14  Indie                      28881 non-null  int64 \n",
      " 15  Massively Multiplayer      28881 non-null  int64 \n",
      " 16  Photo Editing              28881 non-null  int64 \n",
      " 17  RPG                        28881 non-null  int64 \n",
      " 18  Racing                     28881 non-null  int64 \n",
      " 19  Simulation                 28881 non-null  int64 \n",
      " 20  Software Training          28881 non-null  int64 \n",
      " 21  Sports                     28881 non-null  int64 \n",
      " 22  Strategy                   28881 non-null  int64 \n",
      " 23  Utilities                  28881 non-null  int64 \n",
      " 24  Video Production           28881 non-null  int64 \n",
      " 25  Web Publishing             28881 non-null  int64 \n",
      "dtypes: int32(1), int64(22), object(3)\n",
      "memory usage: 5.8+ MB\n",
      "None\n"
     ]
    }
   ],
   "source": [
    "print(steam_games.info())"
   ]
  },
  {
   "cell_type": "code",
   "execution_count": 97,
   "metadata": {},
   "outputs": [
    {
     "data": {
      "text/plain": [
       "release_date\n",
       "2012-10-16     100\n",
       "2017-08-31      92\n",
       "2017-09-26      88\n",
       "2017-07-25      78\n",
       "2017-12-19      75\n",
       "              ... \n",
       "2018年1月          1\n",
       "预热群52756441      1\n",
       "Jan 2018         1\n",
       "2018-01-25       1\n",
       "2018-10-01       1\n",
       "Name: count, Length: 3401, dtype: int64"
      ]
     },
     "execution_count": 97,
     "metadata": {},
     "output_type": "execute_result"
    }
   ],
   "source": [
    "#Proceso de Limpieza Columna release_date\n",
    "steam_games['release_date'].value_counts()\n"
   ]
  },
  {
   "cell_type": "code",
   "execution_count": 98,
   "metadata": {},
   "outputs": [
    {
     "name": "stdout",
     "output_type": "stream",
     "text": [
      "88320           Soon..\n",
      "88353             2017\n",
      "88354        Beta测试已开启\n",
      "88560         Jun 2009\n",
      "88816         Oct 2010\n",
      "              ...     \n",
      "120392      15.01.2018\n",
      "120393        Q1, 2018\n",
      "120397     Coming Soon\n",
      "120407            2016\n",
      "120433    January 2018\n",
      "Name: release_date, Length: 285, dtype: object\n"
     ]
    }
   ],
   "source": [
    "#Verifico el formato de los año usando re\n",
    "# Función para verificar el formato 'YYYY-MM-DD'\n",
    "def is_valid_date_format(date_str):\n",
    "    regex = r'^\\d{4}-\\d{2}-\\d{2}$'\n",
    "    return re.match(regex, date_str) is not None\n",
    "\n",
    "# Crear una máscara booleana para las fechas que no tienen el formato 'YYYY-MM-DD'\n",
    "invalid_date_mask = ~steam_games['release_date'].astype(str).apply(is_valid_date_format)\n",
    "\n",
    "# Filtrar las filas con fechas que no tienen el formato 'YYYY-MM-DD'\n",
    "invalid_dates = steam_games[invalid_date_mask]\n",
    "\n",
    "# Mostrar las fechas que no tienen el formato 'YYYY-MM-DD'\n",
    "print(invalid_dates['release_date'])"
   ]
  },
  {
   "cell_type": "code",
   "execution_count": 99,
   "metadata": {},
   "outputs": [],
   "source": [
    "#Hago una funcion para tratar los valores que no tienen el formato YYYY-MM-DD\n",
    "def arreglar_errores(fecha: str):\n",
    "    try:\n",
    "        # Intenta convertir la fecha directamente a entero\n",
    "        return int(fecha)\n",
    "    except ValueError:\n",
    "        try:\n",
    "            # Intenta dividir la fecha usando un espacio en blanco como delimitador y convierte la segunda parte a entero\n",
    "            return int(fecha.split(\" \")[1])\n",
    "        except (IndexError, ValueError):\n",
    "            try:\n",
    "                # Intenta dividir la fecha usando \".\" como delimitador y convierte la tercera parte a entero\n",
    "                return int(fecha.split(\".\")[2])\n",
    "            except (IndexError, ValueError):\n",
    "                try:\n",
    "                    # Intenta dividir la fecha usando un espacio en blanco como delimitador y convierte la quinta parte a entero\n",
    "                    return int(fecha.split(\" \")[4])\n",
    "                except (IndexError, ValueError):\n",
    "                    # Si no se puede convertir, devuelve None\n",
    "                    return None"
   ]
  },
  {
   "cell_type": "code",
   "execution_count": 100,
   "metadata": {},
   "outputs": [],
   "source": [
    "steam_games.loc[invalid_date_mask, 'Year'] = steam_games.loc[invalid_date_mask, 'release_date'].apply(arreglar_errores)\n",
    "\n",
    "# Convertir las fechas válidas a datetime y extraer el año\n",
    "valid_date_mask = ~invalid_date_mask\n",
    "steam_games.loc[valid_date_mask, 'Year'] = pd.to_datetime(steam_games.loc[valid_date_mask, 'release_date'], errors='coerce').dt.year"
   ]
  },
  {
   "cell_type": "code",
   "execution_count": 101,
   "metadata": {},
   "outputs": [],
   "source": [
    "#llevo la columna Year a formato int\n",
    "steam_games['Year'] = steam_games['Year'].astype('Int64')"
   ]
  },
  {
   "cell_type": "code",
   "execution_count": 102,
   "metadata": {},
   "outputs": [
    {
     "name": "stdout",
     "output_type": "stream",
     "text": [
      "<class 'pandas.core.frame.DataFrame'>\n",
      "Index: 28881 entries, 88310 to 120443\n",
      "Data columns (total 27 columns):\n",
      " #   Column                     Non-Null Count  Dtype \n",
      "---  ------                     --------------  ----- \n",
      " 0   app_name                   28881 non-null  object\n",
      " 1   release_date               28881 non-null  object\n",
      " 2   id                         28881 non-null  int32 \n",
      " 3   developer                  28881 non-null  object\n",
      " 4   Accounting                 28881 non-null  int64 \n",
      " 5   Action                     28881 non-null  int64 \n",
      " 6   Adventure                  28881 non-null  int64 \n",
      " 7   Animation &amp; Modeling   28881 non-null  int64 \n",
      " 8   Audio Production           28881 non-null  int64 \n",
      " 9   Casual                     28881 non-null  int64 \n",
      " 10  Design &amp; Illustration  28881 non-null  int64 \n",
      " 11  Early Access               28881 non-null  int64 \n",
      " 12  Education                  28881 non-null  int64 \n",
      " 13  Free to Play               28881 non-null  int64 \n",
      " 14  Indie                      28881 non-null  int64 \n",
      " 15  Massively Multiplayer      28881 non-null  int64 \n",
      " 16  Photo Editing              28881 non-null  int64 \n",
      " 17  RPG                        28881 non-null  int64 \n",
      " 18  Racing                     28881 non-null  int64 \n",
      " 19  Simulation                 28881 non-null  int64 \n",
      " 20  Software Training          28881 non-null  int64 \n",
      " 21  Sports                     28881 non-null  int64 \n",
      " 22  Strategy                   28881 non-null  int64 \n",
      " 23  Utilities                  28881 non-null  int64 \n",
      " 24  Video Production           28881 non-null  int64 \n",
      " 25  Web Publishing             28881 non-null  int64 \n",
      " 26  Year                       28763 non-null  Int64 \n",
      "dtypes: Int64(1), int32(1), int64(22), object(3)\n",
      "memory usage: 6.1+ MB\n",
      "None\n"
     ]
    }
   ],
   "source": [
    "print(steam_games.info())"
   ]
  },
  {
   "cell_type": "code",
   "execution_count": 103,
   "metadata": {},
   "outputs": [],
   "source": [
    "#Elimino la Columna 'release_date'\n",
    "steam_games.drop(columns=['release_date'],inplace=True)"
   ]
  },
  {
   "cell_type": "code",
   "execution_count": 104,
   "metadata": {},
   "outputs": [],
   "source": [
    "#Elimino las filas con valores vacio de la columna 'Year'\n",
    "steam_games['Year'].isnull().sum()\n",
    "steam_games['Year'].replace('', np.nan, inplace=True)\n",
    "steam_games.dropna(subset=['Year'], inplace=True)"
   ]
  },
  {
   "cell_type": "code",
   "execution_count": 105,
   "metadata": {},
   "outputs": [],
   "source": [
    "#elimino la columna developer\n",
    "steam_games = steam_games.drop(columns=['developer'])"
   ]
  },
  {
   "cell_type": "code",
   "execution_count": 106,
   "metadata": {},
   "outputs": [],
   "source": [
    "#trabajo con el 10% de la base de datos\n",
    "porcentaje_a_eliminar = 0.90\n",
    "\n",
    "# Calcula el número de filas a eliminar\n",
    "num_filas_a_eliminar = int(len(steam_games) * porcentaje_a_eliminar)\n",
    "\n",
    "# Utiliza el método sample para seleccionar aleatoriamente las filas a eliminar\n",
    "filas_a_eliminar = steam_games.sample(n=num_filas_a_eliminar, random_state=42)\n",
    "\n",
    "# Elimina las filas seleccionadas del DataFrame original\n",
    "steam_games = steam_games.drop(filas_a_eliminar.index)"
   ]
  },
  {
   "cell_type": "code",
   "execution_count": 107,
   "metadata": {},
   "outputs": [],
   "source": [
    "steam_games.to_csv('../Datasets/steam_games.csv',index=False)"
   ]
  },
  {
   "cell_type": "markdown",
   "metadata": {},
   "source": [
    "<h1>USERS REVIEWS</h1>"
   ]
  },
  {
   "cell_type": "code",
   "execution_count": 108,
   "metadata": {},
   "outputs": [],
   "source": [
    "#Carga de DataSet Orignal\n",
    "user_reviews_gz = \"../Datasets/user_reviews.json.gz\"\n",
    "filas=[]\n",
    "with gzip.open(user_reviews_gz, 'rt', encoding='MacRoman') as archivo:\n",
    "    for line in archivo.readlines():\n",
    "        filas.append(ast.literal_eval(line))\n",
    "\n",
    "user_review = pd.DataFrame(filas)"
   ]
  },
  {
   "cell_type": "code",
   "execution_count": 109,
   "metadata": {},
   "outputs": [
    {
     "data": {
      "text/html": [
       "<div>\n",
       "<style scoped>\n",
       "    .dataframe tbody tr th:only-of-type {\n",
       "        vertical-align: middle;\n",
       "    }\n",
       "\n",
       "    .dataframe tbody tr th {\n",
       "        vertical-align: top;\n",
       "    }\n",
       "\n",
       "    .dataframe thead th {\n",
       "        text-align: right;\n",
       "    }\n",
       "</style>\n",
       "<table border=\"1\" class=\"dataframe\">\n",
       "  <thead>\n",
       "    <tr style=\"text-align: right;\">\n",
       "      <th></th>\n",
       "      <th>user_id</th>\n",
       "      <th>user_url</th>\n",
       "      <th>reviews</th>\n",
       "    </tr>\n",
       "  </thead>\n",
       "  <tbody>\n",
       "    <tr>\n",
       "      <th>0</th>\n",
       "      <td>76561197970982479</td>\n",
       "      <td>http://steamcommunity.com/profiles/76561197970...</td>\n",
       "      <td>[{'funny': '', 'posted': 'Posted November 5, 2...</td>\n",
       "    </tr>\n",
       "    <tr>\n",
       "      <th>1</th>\n",
       "      <td>js41637</td>\n",
       "      <td>http://steamcommunity.com/id/js41637</td>\n",
       "      <td>[{'funny': '', 'posted': 'Posted June 24, 2014...</td>\n",
       "    </tr>\n",
       "    <tr>\n",
       "      <th>2</th>\n",
       "      <td>evcentric</td>\n",
       "      <td>http://steamcommunity.com/id/evcentric</td>\n",
       "      <td>[{'funny': '', 'posted': 'Posted February 3.',...</td>\n",
       "    </tr>\n",
       "    <tr>\n",
       "      <th>3</th>\n",
       "      <td>doctr</td>\n",
       "      <td>http://steamcommunity.com/id/doctr</td>\n",
       "      <td>[{'funny': '', 'posted': 'Posted October 14, 2...</td>\n",
       "    </tr>\n",
       "    <tr>\n",
       "      <th>4</th>\n",
       "      <td>maplemage</td>\n",
       "      <td>http://steamcommunity.com/id/maplemage</td>\n",
       "      <td>[{'funny': '3 people found this review funny',...</td>\n",
       "    </tr>\n",
       "  </tbody>\n",
       "</table>\n",
       "</div>"
      ],
      "text/plain": [
       "             user_id                                           user_url  \\\n",
       "0  76561197970982479  http://steamcommunity.com/profiles/76561197970...   \n",
       "1            js41637               http://steamcommunity.com/id/js41637   \n",
       "2          evcentric             http://steamcommunity.com/id/evcentric   \n",
       "3              doctr                 http://steamcommunity.com/id/doctr   \n",
       "4          maplemage             http://steamcommunity.com/id/maplemage   \n",
       "\n",
       "                                             reviews  \n",
       "0  [{'funny': '', 'posted': 'Posted November 5, 2...  \n",
       "1  [{'funny': '', 'posted': 'Posted June 24, 2014...  \n",
       "2  [{'funny': '', 'posted': 'Posted February 3.',...  \n",
       "3  [{'funny': '', 'posted': 'Posted October 14, 2...  \n",
       "4  [{'funny': '3 people found this review funny',...  "
      ]
     },
     "execution_count": 109,
     "metadata": {},
     "output_type": "execute_result"
    }
   ],
   "source": [
    "user_review .head()"
   ]
  },
  {
   "cell_type": "markdown",
   "metadata": {},
   "source": [
    "El Datasets user_review contiene 3 columnas donde la 'reviews' es una lista de diccionario que contiene iformacion de los comentarios realizados en cada juego."
   ]
  },
  {
   "cell_type": "markdown",
   "metadata": {},
   "source": [
    "por consiguiente se procede al desanidado de la columna'reviews' repitiendo las filas del usuario para cada item_id."
   ]
  },
  {
   "cell_type": "code",
   "execution_count": 110,
   "metadata": {},
   "outputs": [],
   "source": [
    "user_review_explode = user_review.explode('reviews') # Duplico las filas generando un diccionario por cada diccionario en la lista\n",
    "# Ahora concateno el dataframe original, con el dataframe generado a partir de transformar los diccionarios a pandas\n",
    "user_review_explode = pd.concat([user_review_explode.drop(['reviews'],axis=1),user_review_explode['reviews'].apply(pd.Series)],axis=1)  "
   ]
  },
  {
   "cell_type": "markdown",
   "metadata": {},
   "source": [
    "### Elimino columnas que no seran usadas para el estudio\n",
    "* user_url\n",
    "* funny\n",
    "* last_edited\n",
    "* helpful\n",
    "* 0"
   ]
  },
  {
   "cell_type": "code",
   "execution_count": 114,
   "metadata": {},
   "outputs": [],
   "source": [
    "user_review_explode.drop(columns=['user_url','funny','helpful','last_edited',0],inplace=True)"
   ]
  },
  {
   "cell_type": "code",
   "execution_count": 115,
   "metadata": {},
   "outputs": [
    {
     "data": {
      "text/html": [
       "<div>\n",
       "<style scoped>\n",
       "    .dataframe tbody tr th:only-of-type {\n",
       "        vertical-align: middle;\n",
       "    }\n",
       "\n",
       "    .dataframe tbody tr th {\n",
       "        vertical-align: top;\n",
       "    }\n",
       "\n",
       "    .dataframe thead th {\n",
       "        text-align: right;\n",
       "    }\n",
       "</style>\n",
       "<table border=\"1\" class=\"dataframe\">\n",
       "  <thead>\n",
       "    <tr style=\"text-align: right;\">\n",
       "      <th></th>\n",
       "      <th>user_id</th>\n",
       "      <th>posted</th>\n",
       "      <th>item_id</th>\n",
       "      <th>recommend</th>\n",
       "      <th>review</th>\n",
       "    </tr>\n",
       "  </thead>\n",
       "  <tbody>\n",
       "    <tr>\n",
       "      <th>0</th>\n",
       "      <td>76561197970982479</td>\n",
       "      <td>Posted November 5, 2011.</td>\n",
       "      <td>1250</td>\n",
       "      <td>True</td>\n",
       "      <td>Simple yet with great replayability. In my opi...</td>\n",
       "    </tr>\n",
       "  </tbody>\n",
       "</table>\n",
       "</div>"
      ],
      "text/plain": [
       "             user_id                    posted item_id recommend  \\\n",
       "0  76561197970982479  Posted November 5, 2011.    1250      True   \n",
       "\n",
       "                                              review  \n",
       "0  Simple yet with great replayability. In my opi...  "
      ]
     },
     "execution_count": 115,
     "metadata": {},
     "output_type": "execute_result"
    }
   ],
   "source": [
    "user_review_explode.head(1)"
   ]
  },
  {
   "cell_type": "markdown",
   "metadata": {},
   "source": [
    "<h5> A partir de la columna reveiw se hara un analisis de sentimiento, generando una nueva columna.\n",
    " Este se llamara \"sentiment_analysis\"  y tendra 2 para sentimiento positivo 0 para negativo y 1 para neutral\n",
    " Habiendo hecho esto elimino la columna review </h5>"
   ]
  },
  {
   "cell_type": "code",
   "execution_count": 116,
   "metadata": {},
   "outputs": [
    {
     "name": "stderr",
     "output_type": "stream",
     "text": [
      "[nltk_data] Downloading package vader_lexicon to\n",
      "[nltk_data]     C:\\Users\\admin\\AppData\\Roaming\\nltk_data...\n",
      "[nltk_data]   Package vader_lexicon is already up-to-date!\n"
     ]
    }
   ],
   "source": [
    "#Hago el analisis de sentimiento en la columna review\n",
    "nltk.download('vader_lexicon')\n",
    "model_sentimiento = SentimentIntensityAnalyzer()\n",
    "\n",
    "\n",
    "def analizador(review):\n",
    "    # Obtener el puntaje de sentimiento usando SentimentIntensityAnalyzer\n",
    "    sentimiento_score = model_sentimiento.polarity_scores(review)\n",
    "    \n",
    "    # Clasifico el sentimiento\n",
    "    \n",
    "    if review and not pd.isnull(review):\n",
    "        if sentimiento_score['compound'] >= 0.5:\n",
    "            return 2  # Sentimiento positivo\n",
    "        elif sentimiento_score['compound'] <= -0.5:\n",
    "            return 0  # Sentimiento negativo\n",
    "        else:\n",
    "            return 1  # Sentimiento neutral\n",
    "    else:\n",
    "        return 1"
   ]
  },
  {
   "cell_type": "markdown",
   "metadata": {},
   "source": [
    "* Para aplicar la funcion los nulos tienen que ser vacio"
   ]
  },
  {
   "cell_type": "code",
   "execution_count": 117,
   "metadata": {},
   "outputs": [],
   "source": [
    "user_review_explode['review'].fillna('',inplace=True) # Remplazo los nulos con un string vacio"
   ]
  },
  {
   "cell_type": "code",
   "execution_count": 118,
   "metadata": {},
   "outputs": [],
   "source": [
    "user_review_explode['sentiment_analysis']  = user_review_explode['review'].apply(analizador)\n",
    "user_review_explode.drop(columns='review',inplace=True) # Aplica la funcion que determina el sentimiento"
   ]
  },
  {
   "cell_type": "markdown",
   "metadata": {},
   "source": [
    "* Grafico las el analisis por sentimiento de las reviews"
   ]
  },
  {
   "cell_type": "code",
   "execution_count": 119,
   "metadata": {},
   "outputs": [
    {
     "data": {
      "image/png": "[encoded data removed]",
      "text/plain": [
       "<Figure size 640x480 with 1 Axes>"
      ]
     },
     "metadata": {},
     "output_type": "display_data"
    }
   ],
   "source": [
    "sns.violinplot(x='sentiment_analysis', data=user_review_explode)\n",
    "plt.title('Violinplot de Análisis de Sentimientos')\n",
    "plt.xlabel('Puntuación de Sentimiento')\n",
    "plt.show()"
   ]
  },
  {
   "cell_type": "markdown",
   "metadata": {},
   "source": [
    "Muestro la Cantidad de nulos por columna"
   ]
  },
  {
   "cell_type": "code",
   "execution_count": 121,
   "metadata": {},
   "outputs": [
    {
     "data": {
      "text/plain": [
       "user_id                0\n",
       "posted                28\n",
       "item_id               28\n",
       "recommend             28\n",
       "sentiment_analysis     0\n",
       "dtype: int64"
      ]
     },
     "execution_count": 121,
     "metadata": {},
     "output_type": "execute_result"
    }
   ],
   "source": [
    "user_review_explode.isnull().sum()"
   ]
  },
  {
   "cell_type": "code",
   "execution_count": 122,
   "metadata": {},
   "outputs": [
    {
     "data": {
      "text/html": [
       "<div>\n",
       "<style scoped>\n",
       "    .dataframe tbody tr th:only-of-type {\n",
       "        vertical-align: middle;\n",
       "    }\n",
       "\n",
       "    .dataframe tbody tr th {\n",
       "        vertical-align: top;\n",
       "    }\n",
       "\n",
       "    .dataframe thead th {\n",
       "        text-align: right;\n",
       "    }\n",
       "</style>\n",
       "<table border=\"1\" class=\"dataframe\">\n",
       "  <thead>\n",
       "    <tr style=\"text-align: right;\">\n",
       "      <th></th>\n",
       "      <th>user_id</th>\n",
       "      <th>posted</th>\n",
       "      <th>item_id</th>\n",
       "      <th>recommend</th>\n",
       "      <th>sentiment_analysis</th>\n",
       "    </tr>\n",
       "  </thead>\n",
       "  <tbody>\n",
       "    <tr>\n",
       "      <th>62</th>\n",
       "      <td>gdxsd</td>\n",
       "      <td>NaN</td>\n",
       "      <td>NaN</td>\n",
       "      <td>NaN</td>\n",
       "      <td>1</td>\n",
       "    </tr>\n",
       "    <tr>\n",
       "      <th>83</th>\n",
       "      <td>76561198094224872</td>\n",
       "      <td>NaN</td>\n",
       "      <td>NaN</td>\n",
       "      <td>NaN</td>\n",
       "      <td>1</td>\n",
       "    </tr>\n",
       "    <tr>\n",
       "      <th>1047</th>\n",
       "      <td>76561198021575394</td>\n",
       "      <td>NaN</td>\n",
       "      <td>NaN</td>\n",
       "      <td>NaN</td>\n",
       "      <td>1</td>\n",
       "    </tr>\n",
       "    <tr>\n",
       "      <th>3954</th>\n",
       "      <td>cmuir37</td>\n",
       "      <td>NaN</td>\n",
       "      <td>NaN</td>\n",
       "      <td>NaN</td>\n",
       "      <td>1</td>\n",
       "    </tr>\n",
       "    <tr>\n",
       "      <th>5394</th>\n",
       "      <td>Jaysteeny</td>\n",
       "      <td>NaN</td>\n",
       "      <td>NaN</td>\n",
       "      <td>NaN</td>\n",
       "      <td>1</td>\n",
       "    </tr>\n",
       "    <tr>\n",
       "      <th>6135</th>\n",
       "      <td>ML8989</td>\n",
       "      <td>NaN</td>\n",
       "      <td>NaN</td>\n",
       "      <td>NaN</td>\n",
       "      <td>1</td>\n",
       "    </tr>\n",
       "    <tr>\n",
       "      <th>7583</th>\n",
       "      <td>76561198079215291</td>\n",
       "      <td>NaN</td>\n",
       "      <td>NaN</td>\n",
       "      <td>NaN</td>\n",
       "      <td>1</td>\n",
       "    </tr>\n",
       "    <tr>\n",
       "      <th>7952</th>\n",
       "      <td>76561198079342142</td>\n",
       "      <td>NaN</td>\n",
       "      <td>NaN</td>\n",
       "      <td>NaN</td>\n",
       "      <td>1</td>\n",
       "    </tr>\n",
       "    <tr>\n",
       "      <th>9894</th>\n",
       "      <td>76561198061996985</td>\n",
       "      <td>NaN</td>\n",
       "      <td>NaN</td>\n",
       "      <td>NaN</td>\n",
       "      <td>1</td>\n",
       "    </tr>\n",
       "    <tr>\n",
       "      <th>10381</th>\n",
       "      <td>76561198108286351</td>\n",
       "      <td>NaN</td>\n",
       "      <td>NaN</td>\n",
       "      <td>NaN</td>\n",
       "      <td>1</td>\n",
       "    </tr>\n",
       "    <tr>\n",
       "      <th>10560</th>\n",
       "      <td>CallTripleZero</td>\n",
       "      <td>NaN</td>\n",
       "      <td>NaN</td>\n",
       "      <td>NaN</td>\n",
       "      <td>1</td>\n",
       "    </tr>\n",
       "    <tr>\n",
       "      <th>11316</th>\n",
       "      <td>Priceless612</td>\n",
       "      <td>NaN</td>\n",
       "      <td>NaN</td>\n",
       "      <td>NaN</td>\n",
       "      <td>1</td>\n",
       "    </tr>\n",
       "    <tr>\n",
       "      <th>11320</th>\n",
       "      <td>diabolical666</td>\n",
       "      <td>NaN</td>\n",
       "      <td>NaN</td>\n",
       "      <td>NaN</td>\n",
       "      <td>1</td>\n",
       "    </tr>\n",
       "    <tr>\n",
       "      <th>11549</th>\n",
       "      <td>DrScottnik</td>\n",
       "      <td>NaN</td>\n",
       "      <td>NaN</td>\n",
       "      <td>NaN</td>\n",
       "      <td>1</td>\n",
       "    </tr>\n",
       "    <tr>\n",
       "      <th>12865</th>\n",
       "      <td>76561198110176420</td>\n",
       "      <td>NaN</td>\n",
       "      <td>NaN</td>\n",
       "      <td>NaN</td>\n",
       "      <td>1</td>\n",
       "    </tr>\n",
       "    <tr>\n",
       "      <th>13242</th>\n",
       "      <td>jojoPL1987</td>\n",
       "      <td>NaN</td>\n",
       "      <td>NaN</td>\n",
       "      <td>NaN</td>\n",
       "      <td>1</td>\n",
       "    </tr>\n",
       "    <tr>\n",
       "      <th>13698</th>\n",
       "      <td>Kylee_Kylie</td>\n",
       "      <td>NaN</td>\n",
       "      <td>NaN</td>\n",
       "      <td>NaN</td>\n",
       "      <td>1</td>\n",
       "    </tr>\n",
       "    <tr>\n",
       "      <th>15949</th>\n",
       "      <td>_samie</td>\n",
       "      <td>NaN</td>\n",
       "      <td>NaN</td>\n",
       "      <td>NaN</td>\n",
       "      <td>1</td>\n",
       "    </tr>\n",
       "    <tr>\n",
       "      <th>15990</th>\n",
       "      <td>FifthExclamation</td>\n",
       "      <td>NaN</td>\n",
       "      <td>NaN</td>\n",
       "      <td>NaN</td>\n",
       "      <td>1</td>\n",
       "    </tr>\n",
       "    <tr>\n",
       "      <th>16013</th>\n",
       "      <td>sbenji</td>\n",
       "      <td>NaN</td>\n",
       "      <td>NaN</td>\n",
       "      <td>NaN</td>\n",
       "      <td>1</td>\n",
       "    </tr>\n",
       "    <tr>\n",
       "      <th>16546</th>\n",
       "      <td>SpatialWheel14</td>\n",
       "      <td>NaN</td>\n",
       "      <td>NaN</td>\n",
       "      <td>NaN</td>\n",
       "      <td>1</td>\n",
       "    </tr>\n",
       "    <tr>\n",
       "      <th>17022</th>\n",
       "      <td>76561198065238937</td>\n",
       "      <td>NaN</td>\n",
       "      <td>NaN</td>\n",
       "      <td>NaN</td>\n",
       "      <td>1</td>\n",
       "    </tr>\n",
       "    <tr>\n",
       "      <th>18201</th>\n",
       "      <td>76561198071075080</td>\n",
       "      <td>NaN</td>\n",
       "      <td>NaN</td>\n",
       "      <td>NaN</td>\n",
       "      <td>1</td>\n",
       "    </tr>\n",
       "    <tr>\n",
       "      <th>21386</th>\n",
       "      <td>76561198063489150</td>\n",
       "      <td>NaN</td>\n",
       "      <td>NaN</td>\n",
       "      <td>NaN</td>\n",
       "      <td>1</td>\n",
       "    </tr>\n",
       "    <tr>\n",
       "      <th>22705</th>\n",
       "      <td>thecommunistbear</td>\n",
       "      <td>NaN</td>\n",
       "      <td>NaN</td>\n",
       "      <td>NaN</td>\n",
       "      <td>1</td>\n",
       "    </tr>\n",
       "    <tr>\n",
       "      <th>23785</th>\n",
       "      <td>76561198085883839</td>\n",
       "      <td>NaN</td>\n",
       "      <td>NaN</td>\n",
       "      <td>NaN</td>\n",
       "      <td>1</td>\n",
       "    </tr>\n",
       "    <tr>\n",
       "      <th>24911</th>\n",
       "      <td>76561198100396147</td>\n",
       "      <td>NaN</td>\n",
       "      <td>NaN</td>\n",
       "      <td>NaN</td>\n",
       "      <td>1</td>\n",
       "    </tr>\n",
       "    <tr>\n",
       "      <th>25001</th>\n",
       "      <td>76561198102423654</td>\n",
       "      <td>NaN</td>\n",
       "      <td>NaN</td>\n",
       "      <td>NaN</td>\n",
       "      <td>1</td>\n",
       "    </tr>\n",
       "  </tbody>\n",
       "</table>\n",
       "</div>"
      ],
      "text/plain": [
       "                 user_id posted item_id recommend  sentiment_analysis\n",
       "62                 gdxsd    NaN     NaN       NaN                   1\n",
       "83     76561198094224872    NaN     NaN       NaN                   1\n",
       "1047   76561198021575394    NaN     NaN       NaN                   1\n",
       "3954             cmuir37    NaN     NaN       NaN                   1\n",
       "5394           Jaysteeny    NaN     NaN       NaN                   1\n",
       "6135              ML8989    NaN     NaN       NaN                   1\n",
       "7583   76561198079215291    NaN     NaN       NaN                   1\n",
       "7952   76561198079342142    NaN     NaN       NaN                   1\n",
       "9894   76561198061996985    NaN     NaN       NaN                   1\n",
       "10381  76561198108286351    NaN     NaN       NaN                   1\n",
       "10560     CallTripleZero    NaN     NaN       NaN                   1\n",
       "11316       Priceless612    NaN     NaN       NaN                   1\n",
       "11320      diabolical666    NaN     NaN       NaN                   1\n",
       "11549         DrScottnik    NaN     NaN       NaN                   1\n",
       "12865  76561198110176420    NaN     NaN       NaN                   1\n",
       "13242         jojoPL1987    NaN     NaN       NaN                   1\n",
       "13698        Kylee_Kylie    NaN     NaN       NaN                   1\n",
       "15949             _samie    NaN     NaN       NaN                   1\n",
       "15990   FifthExclamation    NaN     NaN       NaN                   1\n",
       "16013             sbenji    NaN     NaN       NaN                   1\n",
       "16546     SpatialWheel14    NaN     NaN       NaN                   1\n",
       "17022  76561198065238937    NaN     NaN       NaN                   1\n",
       "18201  76561198071075080    NaN     NaN       NaN                   1\n",
       "21386  76561198063489150    NaN     NaN       NaN                   1\n",
       "22705   thecommunistbear    NaN     NaN       NaN                   1\n",
       "23785  76561198085883839    NaN     NaN       NaN                   1\n",
       "24911  76561198100396147    NaN     NaN       NaN                   1\n",
       "25001  76561198102423654    NaN     NaN       NaN                   1"
      ]
     },
     "execution_count": 122,
     "metadata": {},
     "output_type": "execute_result"
    }
   ],
   "source": [
    "user_review_explode[user_review_explode.isnull().any(axis=1)]"
   ]
  },
  {
   "cell_type": "markdown",
   "metadata": {},
   "source": [
    "Se eliminan las filas nulas"
   ]
  },
  {
   "cell_type": "code",
   "execution_count": 123,
   "metadata": {},
   "outputs": [],
   "source": [
    "user_review_explode.dropna(inplace=True)"
   ]
  },
  {
   "cell_type": "code",
   "execution_count": 124,
   "metadata": {},
   "outputs": [
    {
     "data": {
      "text/html": [
       "<div>\n",
       "<style scoped>\n",
       "    .dataframe tbody tr th:only-of-type {\n",
       "        vertical-align: middle;\n",
       "    }\n",
       "\n",
       "    .dataframe tbody tr th {\n",
       "        vertical-align: top;\n",
       "    }\n",
       "\n",
       "    .dataframe thead th {\n",
       "        text-align: right;\n",
       "    }\n",
       "</style>\n",
       "<table border=\"1\" class=\"dataframe\">\n",
       "  <thead>\n",
       "    <tr style=\"text-align: right;\">\n",
       "      <th></th>\n",
       "      <th>user_id</th>\n",
       "      <th>posted</th>\n",
       "      <th>item_id</th>\n",
       "      <th>recommend</th>\n",
       "      <th>sentiment_analysis</th>\n",
       "    </tr>\n",
       "  </thead>\n",
       "  <tbody>\n",
       "    <tr>\n",
       "      <th>0</th>\n",
       "      <td>76561197970982479</td>\n",
       "      <td>Posted November 5, 2011.</td>\n",
       "      <td>1250</td>\n",
       "      <td>True</td>\n",
       "      <td>2</td>\n",
       "    </tr>\n",
       "    <tr>\n",
       "      <th>0</th>\n",
       "      <td>76561197970982479</td>\n",
       "      <td>Posted July 15, 2011.</td>\n",
       "      <td>22200</td>\n",
       "      <td>True</td>\n",
       "      <td>1</td>\n",
       "    </tr>\n",
       "    <tr>\n",
       "      <th>0</th>\n",
       "      <td>76561197970982479</td>\n",
       "      <td>Posted April 21, 2011.</td>\n",
       "      <td>43110</td>\n",
       "      <td>True</td>\n",
       "      <td>2</td>\n",
       "    </tr>\n",
       "    <tr>\n",
       "      <th>1</th>\n",
       "      <td>js41637</td>\n",
       "      <td>Posted June 24, 2014.</td>\n",
       "      <td>251610</td>\n",
       "      <td>True</td>\n",
       "      <td>2</td>\n",
       "    </tr>\n",
       "    <tr>\n",
       "      <th>1</th>\n",
       "      <td>js41637</td>\n",
       "      <td>Posted September 8, 2013.</td>\n",
       "      <td>227300</td>\n",
       "      <td>True</td>\n",
       "      <td>2</td>\n",
       "    </tr>\n",
       "  </tbody>\n",
       "</table>\n",
       "</div>"
      ],
      "text/plain": [
       "             user_id                     posted item_id recommend  \\\n",
       "0  76561197970982479   Posted November 5, 2011.    1250      True   \n",
       "0  76561197970982479      Posted July 15, 2011.   22200      True   \n",
       "0  76561197970982479     Posted April 21, 2011.   43110      True   \n",
       "1            js41637      Posted June 24, 2014.  251610      True   \n",
       "1            js41637  Posted September 8, 2013.  227300      True   \n",
       "\n",
       "   sentiment_analysis  \n",
       "0                   2  \n",
       "0                   1  \n",
       "0                   2  \n",
       "1                   2  \n",
       "1                   2  "
      ]
     },
     "execution_count": 124,
     "metadata": {},
     "output_type": "execute_result"
    }
   ],
   "source": [
    "user_review_explode.head()"
   ]
  },
  {
   "cell_type": "code",
   "execution_count": 125,
   "metadata": {},
   "outputs": [],
   "source": [
    "#trabajo con el 10% de la base de datos\n",
    "porcentaje_a_eliminar = 0.90\n",
    "\n",
    "# Calcula el número de filas a eliminar\n",
    "num_filas_a_eliminar = int(len(user_review_explode) * porcentaje_a_eliminar)\n",
    "\n",
    "# Utiliza el método sample para seleccionar aleatoriamente las filas a eliminar\n",
    "filas_a_eliminar = user_review_explode.sample(n=num_filas_a_eliminar, random_state=42)\n",
    "\n",
    "# Elimina las filas seleccionadas del DataFrame original\n",
    "user_review_explode = user_review_explode.drop(filas_a_eliminar.index)"
   ]
  },
  {
   "cell_type": "markdown",
   "metadata": {},
   "source": [
    "Exporta como csv"
   ]
  },
  {
   "cell_type": "code",
   "execution_count": 126,
   "metadata": {},
   "outputs": [],
   "source": [
    "user_review_explode.to_csv('../datasets/user_reviews.csv',index=False)"
   ]
  },
  {
   "cell_type": "markdown",
   "metadata": {},
   "source": [
    "<h1> USERS ITEMS </h1>"
   ]
  },
  {
   "cell_type": "markdown",
   "metadata": {},
   "source": [
    "Descomprimo el dataset de items"
   ]
  },
  {
   "cell_type": "code",
   "execution_count": 4,
   "metadata": {},
   "outputs": [],
   "source": [
    "def descompimir_json(ruta, variable_anidada):\n",
    "    '''Función que recibe una ruta de acceso a un archivo json anidado y carga la información en un\n",
    "    DataFrame de Pandas'''\n",
    "    fila = []\n",
    "    with gzip.open(ruta, 'rt', encoding='MacRoman') as archivo:\n",
    "      for line in archivo.readlines():\n",
    "          fila.append(ast.literal_eval(line))\n",
    "\n",
    "    df = pd.DataFrame(fila)                                                 \n",
    "    df = df.explode(variable_anidada).reset_index()                         \n",
    "    df = df.drop(columns=\"index\")                                           \n",
    "    df = pd.concat([df, pd.json_normalize(df[variable_anidada])], axis=1)   \n",
    "    df = df.drop(columns=variable_anidada)                                  \n",
    "\n",
    "    return df"
   ]
  },
  {
   "cell_type": "code",
   "execution_count": 5,
   "metadata": {},
   "outputs": [],
   "source": [
    "users_items = descompimir_json(\"../datasets/users_items.json.gz\",'items')"
   ]
  },
  {
   "cell_type": "code",
   "execution_count": 6,
   "metadata": {},
   "outputs": [
    {
     "data": {
      "text/html": [
       "<div>\n",
       "<style scoped>\n",
       "    .dataframe tbody tr th:only-of-type {\n",
       "        vertical-align: middle;\n",
       "    }\n",
       "\n",
       "    .dataframe tbody tr th {\n",
       "        vertical-align: top;\n",
       "    }\n",
       "\n",
       "    .dataframe thead th {\n",
       "        text-align: right;\n",
       "    }\n",
       "</style>\n",
       "<table border=\"1\" class=\"dataframe\">\n",
       "  <thead>\n",
       "    <tr style=\"text-align: right;\">\n",
       "      <th></th>\n",
       "      <th>items_count</th>\n",
       "      <th>playtime_forever</th>\n",
       "      <th>playtime_2weeks</th>\n",
       "    </tr>\n",
       "  </thead>\n",
       "  <tbody>\n",
       "    <tr>\n",
       "      <th>count</th>\n",
       "      <td>5.170015e+06</td>\n",
       "      <td>5.153209e+06</td>\n",
       "      <td>5.153209e+06</td>\n",
       "    </tr>\n",
       "    <tr>\n",
       "      <th>mean</th>\n",
       "      <td>3.136999e+02</td>\n",
       "      <td>9.914951e+02</td>\n",
       "      <td>9.104707e+00</td>\n",
       "    </tr>\n",
       "    <tr>\n",
       "      <th>std</th>\n",
       "      <td>6.924635e+02</td>\n",
       "      <td>5.418204e+03</td>\n",
       "      <td>1.403926e+02</td>\n",
       "    </tr>\n",
       "    <tr>\n",
       "      <th>min</th>\n",
       "      <td>0.000000e+00</td>\n",
       "      <td>0.000000e+00</td>\n",
       "      <td>0.000000e+00</td>\n",
       "    </tr>\n",
       "    <tr>\n",
       "      <th>25%</th>\n",
       "      <td>7.100000e+01</td>\n",
       "      <td>0.000000e+00</td>\n",
       "      <td>0.000000e+00</td>\n",
       "    </tr>\n",
       "    <tr>\n",
       "      <th>50%</th>\n",
       "      <td>1.370000e+02</td>\n",
       "      <td>3.400000e+01</td>\n",
       "      <td>0.000000e+00</td>\n",
       "    </tr>\n",
       "    <tr>\n",
       "      <th>75%</th>\n",
       "      <td>2.750000e+02</td>\n",
       "      <td>3.550000e+02</td>\n",
       "      <td>0.000000e+00</td>\n",
       "    </tr>\n",
       "    <tr>\n",
       "      <th>max</th>\n",
       "      <td>7.762000e+03</td>\n",
       "      <td>6.427730e+05</td>\n",
       "      <td>1.996700e+04</td>\n",
       "    </tr>\n",
       "  </tbody>\n",
       "</table>\n",
       "</div>"
      ],
      "text/plain": [
       "        items_count  playtime_forever  playtime_2weeks\n",
       "count  5.170015e+06      5.153209e+06     5.153209e+06\n",
       "mean   3.136999e+02      9.914951e+02     9.104707e+00\n",
       "std    6.924635e+02      5.418204e+03     1.403926e+02\n",
       "min    0.000000e+00      0.000000e+00     0.000000e+00\n",
       "25%    7.100000e+01      0.000000e+00     0.000000e+00\n",
       "50%    1.370000e+02      3.400000e+01     0.000000e+00\n",
       "75%    2.750000e+02      3.550000e+02     0.000000e+00\n",
       "max    7.762000e+03      6.427730e+05     1.996700e+04"
      ]
     },
     "execution_count": 6,
     "metadata": {},
     "output_type": "execute_result"
    }
   ],
   "source": [
    "users_items.describe()"
   ]
  },
  {
   "cell_type": "code",
   "execution_count": 7,
   "metadata": {},
   "outputs": [
    {
     "data": {
      "text/plain": [
       "user_id                 0\n",
       "items_count             0\n",
       "steam_id                0\n",
       "user_url                0\n",
       "item_id             16806\n",
       "item_name           16806\n",
       "playtime_forever    16806\n",
       "playtime_2weeks     16806\n",
       "dtype: int64"
      ]
     },
     "execution_count": 7,
     "metadata": {},
     "output_type": "execute_result"
    }
   ],
   "source": [
    "users_items.isnull().sum()"
   ]
  },
  {
   "cell_type": "code",
   "execution_count": 8,
   "metadata": {},
   "outputs": [
    {
     "data": {
      "text/html": [
       "<div>\n",
       "<style scoped>\n",
       "    .dataframe tbody tr th:only-of-type {\n",
       "        vertical-align: middle;\n",
       "    }\n",
       "\n",
       "    .dataframe tbody tr th {\n",
       "        vertical-align: top;\n",
       "    }\n",
       "\n",
       "    .dataframe thead th {\n",
       "        text-align: right;\n",
       "    }\n",
       "</style>\n",
       "<table border=\"1\" class=\"dataframe\">\n",
       "  <thead>\n",
       "    <tr style=\"text-align: right;\">\n",
       "      <th></th>\n",
       "      <th>user_id</th>\n",
       "      <th>items_count</th>\n",
       "      <th>steam_id</th>\n",
       "      <th>user_url</th>\n",
       "      <th>item_id</th>\n",
       "      <th>item_name</th>\n",
       "      <th>playtime_forever</th>\n",
       "      <th>playtime_2weeks</th>\n",
       "    </tr>\n",
       "  </thead>\n",
       "  <tbody>\n",
       "    <tr>\n",
       "      <th>3733</th>\n",
       "      <td>Wackky</td>\n",
       "      <td>0</td>\n",
       "      <td>76561198039117046</td>\n",
       "      <td>http://steamcommunity.com/id/Wackky</td>\n",
       "      <td>NaN</td>\n",
       "      <td>NaN</td>\n",
       "      <td>NaN</td>\n",
       "      <td>NaN</td>\n",
       "    </tr>\n",
       "    <tr>\n",
       "      <th>3849</th>\n",
       "      <td>76561198079601835</td>\n",
       "      <td>0</td>\n",
       "      <td>76561198079601835</td>\n",
       "      <td>http://steamcommunity.com/profiles/76561198079...</td>\n",
       "      <td>NaN</td>\n",
       "      <td>NaN</td>\n",
       "      <td>NaN</td>\n",
       "      <td>NaN</td>\n",
       "    </tr>\n",
       "    <tr>\n",
       "      <th>6019</th>\n",
       "      <td>hellom8o</td>\n",
       "      <td>0</td>\n",
       "      <td>76561198117222320</td>\n",
       "      <td>http://steamcommunity.com/id/hellom8o</td>\n",
       "      <td>NaN</td>\n",
       "      <td>NaN</td>\n",
       "      <td>NaN</td>\n",
       "      <td>NaN</td>\n",
       "    </tr>\n",
       "    <tr>\n",
       "      <th>6523</th>\n",
       "      <td>starkillershadow553</td>\n",
       "      <td>0</td>\n",
       "      <td>76561198059648579</td>\n",
       "      <td>http://steamcommunity.com/id/starkillershadow553</td>\n",
       "      <td>NaN</td>\n",
       "      <td>NaN</td>\n",
       "      <td>NaN</td>\n",
       "      <td>NaN</td>\n",
       "    </tr>\n",
       "    <tr>\n",
       "      <th>7237</th>\n",
       "      <td>darkenkane</td>\n",
       "      <td>0</td>\n",
       "      <td>76561198058876001</td>\n",
       "      <td>http://steamcommunity.com/id/darkenkane</td>\n",
       "      <td>NaN</td>\n",
       "      <td>NaN</td>\n",
       "      <td>NaN</td>\n",
       "      <td>NaN</td>\n",
       "    </tr>\n",
       "    <tr>\n",
       "      <th>...</th>\n",
       "      <td>...</td>\n",
       "      <td>...</td>\n",
       "      <td>...</td>\n",
       "      <td>...</td>\n",
       "      <td>...</td>\n",
       "      <td>...</td>\n",
       "      <td>...</td>\n",
       "      <td>...</td>\n",
       "    </tr>\n",
       "    <tr>\n",
       "      <th>5169470</th>\n",
       "      <td>76561198316380182</td>\n",
       "      <td>0</td>\n",
       "      <td>76561198316380182</td>\n",
       "      <td>http://steamcommunity.com/profiles/76561198316...</td>\n",
       "      <td>NaN</td>\n",
       "      <td>NaN</td>\n",
       "      <td>NaN</td>\n",
       "      <td>NaN</td>\n",
       "    </tr>\n",
       "    <tr>\n",
       "      <th>5169471</th>\n",
       "      <td>76561198316970597</td>\n",
       "      <td>0</td>\n",
       "      <td>76561198316970597</td>\n",
       "      <td>http://steamcommunity.com/profiles/76561198316...</td>\n",
       "      <td>NaN</td>\n",
       "      <td>NaN</td>\n",
       "      <td>NaN</td>\n",
       "      <td>NaN</td>\n",
       "    </tr>\n",
       "    <tr>\n",
       "      <th>5169472</th>\n",
       "      <td>76561198318100691</td>\n",
       "      <td>0</td>\n",
       "      <td>76561198318100691</td>\n",
       "      <td>http://steamcommunity.com/profiles/76561198318...</td>\n",
       "      <td>NaN</td>\n",
       "      <td>NaN</td>\n",
       "      <td>NaN</td>\n",
       "      <td>NaN</td>\n",
       "    </tr>\n",
       "    <tr>\n",
       "      <th>5170006</th>\n",
       "      <td>XxLaughingJackClown77xX</td>\n",
       "      <td>0</td>\n",
       "      <td>76561198328759259</td>\n",
       "      <td>http://steamcommunity.com/id/XxLaughingJackClo...</td>\n",
       "      <td>NaN</td>\n",
       "      <td>NaN</td>\n",
       "      <td>NaN</td>\n",
       "      <td>NaN</td>\n",
       "    </tr>\n",
       "    <tr>\n",
       "      <th>5170014</th>\n",
       "      <td>edward_tremethick</td>\n",
       "      <td>0</td>\n",
       "      <td>76561198331598578</td>\n",
       "      <td>http://steamcommunity.com/id/edward_tremethick</td>\n",
       "      <td>NaN</td>\n",
       "      <td>NaN</td>\n",
       "      <td>NaN</td>\n",
       "      <td>NaN</td>\n",
       "    </tr>\n",
       "  </tbody>\n",
       "</table>\n",
       "<p>16806 rows × 8 columns</p>\n",
       "</div>"
      ],
      "text/plain": [
       "                         user_id  items_count           steam_id  \\\n",
       "3733                      Wackky            0  76561198039117046   \n",
       "3849           76561198079601835            0  76561198079601835   \n",
       "6019                    hellom8o            0  76561198117222320   \n",
       "6523         starkillershadow553            0  76561198059648579   \n",
       "7237                  darkenkane            0  76561198058876001   \n",
       "...                          ...          ...                ...   \n",
       "5169470        76561198316380182            0  76561198316380182   \n",
       "5169471        76561198316970597            0  76561198316970597   \n",
       "5169472        76561198318100691            0  76561198318100691   \n",
       "5170006  XxLaughingJackClown77xX            0  76561198328759259   \n",
       "5170014        edward_tremethick            0  76561198331598578   \n",
       "\n",
       "                                                  user_url item_id item_name  \\\n",
       "3733                   http://steamcommunity.com/id/Wackky     NaN       NaN   \n",
       "3849     http://steamcommunity.com/profiles/76561198079...     NaN       NaN   \n",
       "6019                 http://steamcommunity.com/id/hellom8o     NaN       NaN   \n",
       "6523      http://steamcommunity.com/id/starkillershadow553     NaN       NaN   \n",
       "7237               http://steamcommunity.com/id/darkenkane     NaN       NaN   \n",
       "...                                                    ...     ...       ...   \n",
       "5169470  http://steamcommunity.com/profiles/76561198316...     NaN       NaN   \n",
       "5169471  http://steamcommunity.com/profiles/76561198316...     NaN       NaN   \n",
       "5169472  http://steamcommunity.com/profiles/76561198318...     NaN       NaN   \n",
       "5170006  http://steamcommunity.com/id/XxLaughingJackClo...     NaN       NaN   \n",
       "5170014     http://steamcommunity.com/id/edward_tremethick     NaN       NaN   \n",
       "\n",
       "         playtime_forever  playtime_2weeks  \n",
       "3733                  NaN              NaN  \n",
       "3849                  NaN              NaN  \n",
       "6019                  NaN              NaN  \n",
       "6523                  NaN              NaN  \n",
       "7237                  NaN              NaN  \n",
       "...                   ...              ...  \n",
       "5169470               NaN              NaN  \n",
       "5169471               NaN              NaN  \n",
       "5169472               NaN              NaN  \n",
       "5170006               NaN              NaN  \n",
       "5170014               NaN              NaN  \n",
       "\n",
       "[16806 rows x 8 columns]"
      ]
     },
     "execution_count": 8,
     "metadata": {},
     "output_type": "execute_result"
    }
   ],
   "source": [
    "users_items[users_items['item_id'].isna()]"
   ]
  },
  {
   "cell_type": "markdown",
   "metadata": {},
   "source": [
    "Todos los nulos hacen referencia a las mismas filas por esto seran eliminados"
   ]
  },
  {
   "cell_type": "code",
   "execution_count": 9,
   "metadata": {},
   "outputs": [],
   "source": [
    "users_items.dropna(inplace=True)"
   ]
  },
  {
   "cell_type": "markdown",
   "metadata": {},
   "source": [
    "### Por ultimo elimino las columnas que no usare\n",
    "* user_url\n",
    "* playtime_2weeks\n",
    "* steam_id\n",
    "* item_name"
   ]
  },
  {
   "cell_type": "code",
   "execution_count": 10,
   "metadata": {},
   "outputs": [],
   "source": [
    "users_items.drop(columns=['user_url','playtime_2weeks','steam_id', 'item_name'], inplace=True)"
   ]
  },
  {
   "cell_type": "code",
   "execution_count": 11,
   "metadata": {},
   "outputs": [
    {
     "data": {
      "text/plain": [
       "<Axes: ylabel='playtime_forever'>"
      ]
     },
     "execution_count": 11,
     "metadata": {},
     "output_type": "execute_result"
    },
    {
     "data": {
      "image/png": "[encoded data removed]",
      "text/plain": [
       "<Figure size 640x480 with 1 Axes>"
      ]
     },
     "metadata": {},
     "output_type": "display_data"
    }
   ],
   "source": [
    "sns.boxplot(data=users_items,y='playtime_forever') # Hago un diagrama de caja para ver outliers"
   ]
  },
  {
   "cell_type": "markdown",
   "metadata": {},
   "source": [
    "Tiene muchos outliers, pero si se consideran minutos no tienen que ser necesariamente errores"
   ]
  },
  {
   "cell_type": "markdown",
   "metadata": {},
   "source": [
    "Exporto el dataframe a csv y lo comprimo en gz"
   ]
  },
  {
   "cell_type": "code",
   "execution_count": 12,
   "metadata": {},
   "outputs": [
    {
     "data": {
      "text/plain": [
       "user_id             0\n",
       "items_count         0\n",
       "item_id             0\n",
       "playtime_forever    0\n",
       "dtype: int64"
      ]
     },
     "execution_count": 12,
     "metadata": {},
     "output_type": "execute_result"
    }
   ],
   "source": [
    "users_items.isnull().sum()"
   ]
  },
  {
   "cell_type": "code",
   "execution_count": null,
   "metadata": {},
   "outputs": [],
   "source": [
    "users_items.to_csv('../datasets/users_items.csv',index=False)"
   ]
  },
  {
   "cell_type": "code",
   "execution_count": 13,
   "metadata": {},
   "outputs": [],
   "source": [
    "#trabajo con el 10% de la base de datos\n",
    "porcentaje_a_eliminar = 0.90\n",
    "\n",
    "# Calcula el número de filas a eliminar\n",
    "num_filas_a_eliminar = int(len(users_items) * porcentaje_a_eliminar)\n",
    "\n",
    "# Utiliza el método sample para seleccionar aleatoriamente las filas a eliminar\n",
    "filas_a_eliminar = users_items.sample(n=num_filas_a_eliminar, random_state=42)\n",
    "\n",
    "# Elimina las filas seleccionadas del DataFrame original\n",
    "users_items = users_items.drop(filas_a_eliminar.index)"
   ]
  },
  {
   "cell_type": "code",
   "execution_count": null,
   "metadata": {},
   "outputs": [],
   "source": [
    "users_items.to_csv('../datasets/users_items.csv',index=False)"
   ]
  },
  {
   "cell_type": "code",
   "execution_count": null,
   "metadata": {},
   "outputs": [],
   "source": [
    "with gzip.open('../datasets/users_items_project.csv.gz', 'wb') as f:\n",
    "    users_items.to_csv(f, index=False, encoding='utf-8')"
   ]
  }
 ],
 "metadata": {
  "kernelspec": {
   "display_name": "Python 3",
   "language": "python",
   "name": "python3"
  },
  "language_info": {
   "codemirror_mode": {
    "name": "ipython",
    "version": 3
   },
   "file_extension": ".py",
   "mimetype": "text/x-python",
   "name": "python",
   "nbconvert_exporter": "python",
   "pygments_lexer": "ipython3",
   "version": "3.11.3"
  }
 },
 "nbformat": 4,
 "nbformat_minor": 2
}
